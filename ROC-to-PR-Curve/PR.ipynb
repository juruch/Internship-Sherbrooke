{
 "cells": [
  {
   "cell_type": "code",
   "execution_count": 1,
   "id": "04e3fd18-0df3-44bd-9545-63d098ef95a2",
   "metadata": {},
   "outputs": [],
   "source": [
    "import torch\n",
    "import pandas as pd\n",
    "import numpy as np\n",
    "import matplotlib.pyplot as plt"
   ]
  },
  {
   "cell_type": "code",
   "execution_count": 2,
   "id": "3902e29e-6bcf-417a-ab3a-b8a77214a623",
   "metadata": {},
   "outputs": [],
   "source": [
    "four_labels = torch.tensor([0,0,1,1])\n",
    "four_pred = torch.tensor([2.0, -3.5, -1.0, 1.5])"
   ]
  },
  {
   "cell_type": "markdown",
   "id": "1c8f9f03-6ebd-4936-8af0-0714a56089d6",
   "metadata": {},
   "source": [
    "---"
   ]
  },
  {
   "cell_type": "markdown",
   "id": "acf316fc-d86f-4865-89bf-e336a9f10584",
   "metadata": {},
   "source": [
    "In this notebook I transformed the ROC curve code to the PR curve code (like what I previously did in R).  \n",
    "I also studied the difference in the results when we use different values for the precision in the case where (TP+FP)=0."
   ]
  },
  {
   "cell_type": "markdown",
   "id": "bc221130-ff49-4008-ac95-7b5304b0ad40",
   "metadata": {},
   "source": [
    "---"
   ]
  },
  {
   "cell_type": "markdown",
   "id": "59d8e8a0-0508-4c2e-95bb-26955f516d5b",
   "metadata": {},
   "source": [
    "# ROC"
   ]
  },
  {
   "cell_type": "markdown",
   "id": "3bd65f64-aebb-43db-9f2e-9d64e24087ed",
   "metadata": {},
   "source": [
    "The following ROC codes can be found [here.](https://tdhock.github.io/blog/2024/torch-roc-aum/)"
   ]
  },
  {
   "cell_type": "code",
   "execution_count": 3,
   "id": "6a0f9554-fbdb-455e-a91b-b0dd2c0bc659",
   "metadata": {},
   "outputs": [
    {
     "data": {
      "text/html": [
       "<div>\n",
       "<style scoped>\n",
       "    .dataframe tbody tr th:only-of-type {\n",
       "        vertical-align: middle;\n",
       "    }\n",
       "\n",
       "    .dataframe tbody tr th {\n",
       "        vertical-align: top;\n",
       "    }\n",
       "\n",
       "    .dataframe thead th {\n",
       "        text-align: right;\n",
       "    }\n",
       "</style>\n",
       "<table border=\"1\" class=\"dataframe\">\n",
       "  <thead>\n",
       "    <tr style=\"text-align: right;\">\n",
       "      <th></th>\n",
       "      <th>FPR</th>\n",
       "      <th>FNR</th>\n",
       "      <th>TPR</th>\n",
       "      <th>min(FPR,FNR)</th>\n",
       "      <th>min_constant</th>\n",
       "      <th>max_constant</th>\n",
       "    </tr>\n",
       "  </thead>\n",
       "  <tbody>\n",
       "    <tr>\n",
       "      <th>0</th>\n",
       "      <td>0.0</td>\n",
       "      <td>1.0</td>\n",
       "      <td>0.0</td>\n",
       "      <td>0.0</td>\n",
       "      <td>-inf</td>\n",
       "      <td>-2.0</td>\n",
       "    </tr>\n",
       "    <tr>\n",
       "      <th>1</th>\n",
       "      <td>0.5</td>\n",
       "      <td>1.0</td>\n",
       "      <td>0.0</td>\n",
       "      <td>0.5</td>\n",
       "      <td>-2.0</td>\n",
       "      <td>-1.5</td>\n",
       "    </tr>\n",
       "    <tr>\n",
       "      <th>2</th>\n",
       "      <td>0.5</td>\n",
       "      <td>0.5</td>\n",
       "      <td>0.5</td>\n",
       "      <td>0.5</td>\n",
       "      <td>-1.5</td>\n",
       "      <td>1.0</td>\n",
       "    </tr>\n",
       "    <tr>\n",
       "      <th>3</th>\n",
       "      <td>0.5</td>\n",
       "      <td>0.0</td>\n",
       "      <td>1.0</td>\n",
       "      <td>0.0</td>\n",
       "      <td>1.0</td>\n",
       "      <td>3.5</td>\n",
       "    </tr>\n",
       "    <tr>\n",
       "      <th>4</th>\n",
       "      <td>1.0</td>\n",
       "      <td>0.0</td>\n",
       "      <td>1.0</td>\n",
       "      <td>0.0</td>\n",
       "      <td>3.5</td>\n",
       "      <td>inf</td>\n",
       "    </tr>\n",
       "  </tbody>\n",
       "</table>\n",
       "</div>"
      ],
      "text/plain": [
       "   FPR  FNR  TPR  min(FPR,FNR)  min_constant  max_constant\n",
       "0  0.0  1.0  0.0           0.0          -inf          -2.0\n",
       "1  0.5  1.0  0.0           0.5          -2.0          -1.5\n",
       "2  0.5  0.5  0.5           0.5          -1.5           1.0\n",
       "3  0.5  0.0  1.0           0.0           1.0           3.5\n",
       "4  1.0  0.0  1.0           0.0           3.5           inf"
      ]
     },
     "execution_count": 3,
     "metadata": {},
     "output_type": "execute_result"
    }
   ],
   "source": [
    "def ROC_curve(pred_tensor, label_tensor):\n",
    "    \"\"\"Receiver Operating Characteristic curve.\n",
    "    \"\"\"\n",
    "    is_positive = label_tensor == 1\n",
    "    is_negative = label_tensor != 1\n",
    "    fn_diff = torch.where(is_positive, -1, 0)\n",
    "    fp_diff = torch.where(is_positive, 0, 1)\n",
    "    thresh_tensor = -pred_tensor.flatten()\n",
    "    sorted_indices = torch.argsort(thresh_tensor)\n",
    "    fp_denom = torch.sum(is_negative) #or 1 for AUM based on count instead of rate\n",
    "    fn_denom = torch.sum(is_positive) #or 1 for AUM based on count instead of rate\n",
    "    sorted_fp_cum = fp_diff[\n",
    "        sorted_indices].cumsum(axis=0)/fp_denom\n",
    "    sorted_fn_cum = -fn_diff[\n",
    "        sorted_indices].flip(0).cumsum(axis=0).flip(0)/fn_denom\n",
    "    sorted_thresh = thresh_tensor[sorted_indices]\n",
    "    sorted_is_diff = sorted_thresh.diff() != 0\n",
    "    sorted_fp_end = torch.cat([sorted_is_diff, torch.tensor([True])])\n",
    "    sorted_fn_end = torch.cat([torch.tensor([True]), sorted_is_diff])\n",
    "    uniq_thresh = sorted_thresh[sorted_fp_end]\n",
    "    uniq_fp_after = sorted_fp_cum[sorted_fp_end]\n",
    "    uniq_fn_before = sorted_fn_cum[sorted_fn_end]\n",
    "    FPR = torch.cat([torch.tensor([0.0]), uniq_fp_after])\n",
    "    FNR = torch.cat([uniq_fn_before, torch.tensor([0.0])])\n",
    "    return {\n",
    "        \"FPR\":FPR,\n",
    "        \"FNR\":FNR,\n",
    "        \"TPR\":1 - FNR,\n",
    "        \"min(FPR,FNR)\":torch.minimum(FPR, FNR),\n",
    "        \"min_constant\":torch.cat([torch.tensor([-torch.inf]), uniq_thresh]),\n",
    "        \"max_constant\":torch.cat([uniq_thresh, torch.tensor([torch.inf])])\n",
    "    }\n",
    "roc_efficient_df = pd.DataFrame(ROC_curve(four_pred, four_labels))\n",
    "roc_efficient_df"
   ]
  },
  {
   "cell_type": "code",
   "execution_count": 4,
   "id": "c6180091-ee49-403f-9a4f-a876788c013d",
   "metadata": {},
   "outputs": [
    {
     "name": "stdout",
     "output_type": "stream",
     "text": [
      "tensor([0.5000, 0.5000, 0.5000, 1.0000])\n",
      "tensor([0.0000, 0.5000, 0.5000, 0.5000])\n",
      "tensor([0.0000, 0.5000, 1.0000, 1.0000])\n",
      "tensor([0.0000, 0.0000, 0.5000, 1.0000])\n"
     ]
    },
    {
     "data": {
      "text/plain": [
       "tensor(0.5000)"
      ]
     },
     "execution_count": 4,
     "metadata": {},
     "output_type": "execute_result"
    }
   ],
   "source": [
    "def ROC_AUC(pred_tensor, label_tensor):\n",
    "    roc = ROC_curve(pred_tensor, label_tensor)\n",
    "    FPR_diff = roc[\"FPR\"][1:]-roc[\"FPR\"][:-1]\n",
    "    TPR_sum = roc[\"TPR\"][1:]+roc[\"TPR\"][:-1]\n",
    "    \n",
    "    print(roc[\"FPR\"][1:])\n",
    "    print(roc[\"FPR\"][:-1])\n",
    "    print(roc[\"TPR\"][1:])\n",
    "    print(roc[\"TPR\"][:-1])\n",
    "    \n",
    "    return torch.sum(FPR_diff*TPR_sum/2.0)\n",
    "ROC_AUC(four_pred, four_labels)"
   ]
  },
  {
   "cell_type": "code",
   "execution_count": 5,
   "id": "8a7e9151-571f-4f63-a13b-dd3faf2035a4",
   "metadata": {},
   "outputs": [
    {
     "data": {
      "text/html": [
       "<div>\n",
       "<style scoped>\n",
       "    .dataframe tbody tr th:only-of-type {\n",
       "        vertical-align: middle;\n",
       "    }\n",
       "\n",
       "    .dataframe tbody tr th {\n",
       "        vertical-align: top;\n",
       "    }\n",
       "\n",
       "    .dataframe thead th {\n",
       "        text-align: right;\n",
       "    }\n",
       "</style>\n",
       "<table border=\"1\" class=\"dataframe\">\n",
       "  <thead>\n",
       "    <tr style=\"text-align: right;\">\n",
       "      <th></th>\n",
       "      <th>ideal</th>\n",
       "      <th>constant</th>\n",
       "      <th>anti-learning</th>\n",
       "      <th>label</th>\n",
       "    </tr>\n",
       "  </thead>\n",
       "  <tbody>\n",
       "    <tr>\n",
       "      <th>0</th>\n",
       "      <td>1.0</td>\n",
       "      <td>9.0</td>\n",
       "      <td>4.0</td>\n",
       "      <td>0</td>\n",
       "    </tr>\n",
       "    <tr>\n",
       "      <th>1</th>\n",
       "      <td>2.0</td>\n",
       "      <td>9.0</td>\n",
       "      <td>3.0</td>\n",
       "      <td>0</td>\n",
       "    </tr>\n",
       "    <tr>\n",
       "      <th>2</th>\n",
       "      <td>3.0</td>\n",
       "      <td>9.0</td>\n",
       "      <td>2.0</td>\n",
       "      <td>1</td>\n",
       "    </tr>\n",
       "    <tr>\n",
       "      <th>3</th>\n",
       "      <td>4.0</td>\n",
       "      <td>9.0</td>\n",
       "      <td>1.0</td>\n",
       "      <td>1</td>\n",
       "    </tr>\n",
       "  </tbody>\n",
       "</table>\n",
       "</div>"
      ],
      "text/plain": [
       "   ideal  constant  anti-learning  label\n",
       "0    1.0       9.0            4.0      0\n",
       "1    2.0       9.0            3.0      0\n",
       "2    3.0       9.0            2.0      1\n",
       "3    4.0       9.0            1.0      1"
      ]
     },
     "execution_count": 5,
     "metadata": {},
     "output_type": "execute_result"
    }
   ],
   "source": [
    "pred_dict = {\n",
    "    \"ideal\":[1.0, 2, 3, 4],\n",
    "    \"constant\":[9.0, 9, 9, 9],\n",
    "    \"anti-learning\":[4.0, 3, 2, 1],\n",
    "}\n",
    "example_pred_df = pd.DataFrame(pred_dict)\n",
    "example_pred_df[\"label\"] = four_labels\n",
    "example_pred_df"
   ]
  },
  {
   "cell_type": "code",
   "execution_count": 6,
   "id": "7892a791-d075-4906-acab-9dda316c8b61",
   "metadata": {},
   "outputs": [],
   "source": [
    "def Proposed_AUM(pred_tensor, label_tensor):\n",
    "    \"\"\"Area Under Min(FP,FN)\n",
    "\n",
    "    Differentiable loss function for imbalanced binary classification\n",
    "    problems. Minimizing AUM empirically results in maximizing Area\n",
    "    Under the ROC Curve (AUC). Arguments: pred_tensor and label_tensor\n",
    "    should both be 1d tensors, vectors of real-valued predictions and\n",
    "    integer labels for each observation in the set/batch. Labels\n",
    "    should be either 1 for positive class or any other value for\n",
    "    negative class.\n",
    "\n",
    "    \"\"\"\n",
    "    roc = ROC_curve(pred_tensor, label_tensor)\n",
    "    min_FPR_FNR = roc[\"min(FPR,FNR)\"][1:-1]\n",
    "    constant_diff = roc[\"min_constant\"][1:].diff()\n",
    "    return torch.sum(min_FPR_FNR * constant_diff)"
   ]
  },
  {
   "cell_type": "code",
   "execution_count": 7,
   "id": "0fa08c1b-239d-4f8a-998f-714663dcfeb6",
   "metadata": {},
   "outputs": [
    {
     "data": {
      "text/plain": [
       "tensor(1.5000)"
      ]
     },
     "execution_count": 7,
     "metadata": {},
     "output_type": "execute_result"
    }
   ],
   "source": [
    "Proposed_AUM(four_pred, four_labels)"
   ]
  },
  {
   "cell_type": "markdown",
   "id": "3a5fcbd7-3afb-4d1f-860c-6297b74d62e2",
   "metadata": {},
   "source": [
    "---"
   ]
  },
  {
   "cell_type": "markdown",
   "id": "ba73820c-f69a-4f34-969f-eb87773a22e0",
   "metadata": {},
   "source": [
    "---"
   ]
  },
  {
   "cell_type": "markdown",
   "id": "6c0e5ab9-afab-436f-b9c2-c201888acba4",
   "metadata": {},
   "source": [
    "# Precision-Recall"
   ]
  },
  {
   "cell_type": "markdown",
   "id": "ed5e2fda-ef09-4fcf-9f7e-2bb5b6b405e2",
   "metadata": {},
   "source": [
    "Here are the results I found in R."
   ]
  },
  {
   "cell_type": "markdown",
   "id": "d864a362-6580-4356-9ebe-68aab1314cbe",
   "metadata": {},
   "source": [
    "![title](../Figures/Fig-Week2-PR-R-results.png)"
   ]
  },
  {
   "cell_type": "markdown",
   "id": "2c95813a-d2bb-4d5f-92e3-e6d10053f4a8",
   "metadata": {},
   "source": [
    "---"
   ]
  },
  {
   "cell_type": "markdown",
   "id": "027ff355-c566-4783-8713-3e112d5c0e1a",
   "metadata": {},
   "source": [
    "## SCIKIT LEARN"
   ]
  },
  {
   "cell_type": "markdown",
   "id": "438deb61-770c-4478-a167-82239dd0ec1c",
   "metadata": {},
   "source": [
    "First I used the **precision_recall_curve** function from scikit learn to confirm my results."
   ]
  },
  {
   "cell_type": "markdown",
   "id": "199e748e-de4c-4c9f-a036-d1441b1d8fd5",
   "metadata": {},
   "source": [
    "[Documentation.](https://scikit-learn.org/stable/modules/generated/sklearn.metrics.precision_recall_curve.html)  \n",
    "From the scikit learn website :   \n",
    "*Precision : ndarray of shape (n_thresholds + 1,)  \n",
    "Precision values such that element i is the precision of predictions with score >= thresholds[i] and the last element is 1.*"
   ]
  },
  {
   "cell_type": "code",
   "execution_count": 8,
   "id": "5d6a13ff-eaf5-48e6-af7d-c0db575d7bd5",
   "metadata": {},
   "outputs": [
    {
     "name": "stdout",
     "output_type": "stream",
     "text": [
      "Precision: [0.5        0.66666667 0.5        0.         1.        ]\n",
      "Recall: [1.  1.  0.5 0.  0. ]\n"
     ]
    }
   ],
   "source": [
    "from sklearn.metrics import precision_recall_curve\n",
    "y_true = np.array([0, 0, 1, 1])\n",
    "y_scores = np.array([2.0, -3.5, -1.0, 1.5])\n",
    "precision, recall, thresholds = precision_recall_curve(y_true, y_scores)\n",
    "\n",
    "print(\"Precision:\", precision)\n",
    "print(\"Recall:\", recall)"
   ]
  },
  {
   "cell_type": "markdown",
   "id": "57a02151-a2d4-49ec-9808-a5e2a0e3ef7a",
   "metadata": {},
   "source": [
    "The results using scikit learn are the same (reading from right to left) as the one from R (reading top to bottom) except the value of the precision when its denominator is equal to 0. The scikit learn function set the precision value to **1**"
   ]
  },
  {
   "cell_type": "markdown",
   "id": "be35c770-5445-400c-a204-67c7696fcdba",
   "metadata": {},
   "source": [
    "---"
   ]
  },
  {
   "cell_type": "markdown",
   "id": "435b256c-320a-400f-b304-dad1b5bb30ac",
   "metadata": {},
   "source": [
    "## CURVE"
   ]
  },
  {
   "cell_type": "markdown",
   "id": "a6105cdc-e7f3-4a5b-a181-456b79d65982",
   "metadata": {},
   "source": [
    "I did three function for the PR curve, they all set a different value for the precision in the case where its denominator is equal to zero.\n",
    "- **PR_curve** : precision = NaN\n",
    "- **PR_curve_0** : precision = 0\n",
    "- **PR_curve_1** : precision = 1"
   ]
  },
  {
   "cell_type": "code",
   "execution_count": 9,
   "id": "a1f1be42-01f8-42bd-90f8-4ea5c15c5bb1",
   "metadata": {},
   "outputs": [],
   "source": [
    "def PR_curve(pred_tensor, label_tensor):\n",
    "    \"\"\"Precision-Recall curve.\n",
    "    \"\"\"\n",
    "    is_positive = label_tensor == 1\n",
    "    is_negative = label_tensor != 1\n",
    "    fn_diff = torch.where(is_positive, -1, 0)\n",
    "    fp_diff = torch.where(is_positive, 0, 1)\n",
    "    thresh_tensor = -pred_tensor.flatten()\n",
    "    sorted_indices = torch.argsort(thresh_tensor)\n",
    "    fp_denom = torch.sum(is_negative) #or 1 for AUM based on count instead of rate\n",
    "    fn_denom = torch.sum(is_positive) #or 1 for AUM based on count instead of rate\n",
    "    sorted_fp_cum = fp_diff[\n",
    "        sorted_indices].cumsum(axis=0)/fp_denom\n",
    "    sorted_fn_cum = -fn_diff[\n",
    "        sorted_indices].flip(0).cumsum(axis=0).flip(0)/fn_denom\n",
    "    sorted_thresh = thresh_tensor[sorted_indices]\n",
    "    sorted_is_diff = sorted_thresh.diff() != 0\n",
    "    sorted_fp_end = torch.cat([sorted_is_diff, torch.tensor([True])])\n",
    "    sorted_fn_end = torch.cat([torch.tensor([True]), sorted_is_diff])\n",
    "    uniq_thresh = sorted_thresh[sorted_fp_end]\n",
    "    uniq_fp_after = sorted_fp_cum[sorted_fp_end]\n",
    "    uniq_fn_before = sorted_fn_cum[sorted_fn_end]\n",
    "    \n",
    "    \n",
    "    \n",
    "    FPR = torch.cat([torch.tensor([0.0]), uniq_fp_after])\n",
    "    FNR = torch.cat([uniq_fn_before, torch.tensor([0.0])])\n",
    "    total_positives = torch.sum(is_positive)\n",
    "    total_negatives = torch.sum(is_negative)\n",
    "    TP = total_positives * (1 - FNR)\n",
    "    TN = total_negatives * (1 - FPR)\n",
    "    FP = total_negatives * FPR\n",
    "    FN = total_positives * FNR\n",
    "    \n",
    "    precision = torch.zeros_like(TP)\n",
    "    recall = torch.zeros_like(TP)\n",
    "    valid_precision = (TP + FP) != 0\n",
    "    valid_recall = (TP + FN) != 0\n",
    "    precision[valid_precision] = (TP / (TP + FP))[valid_precision]\n",
    "    precision[~valid_precision] = float('nan')\n",
    "    recall[valid_recall] = (TP / (TP + FN))[valid_recall]\n",
    "    recall[~valid_recall] = float('nan')\n",
    "    \n",
    "    min_pre_rec = torch.minimum(1-precision, 1-recall)\n",
    "    \n",
    "    return {\n",
    "        \"FPR\": FPR,\n",
    "        \"FNR\": FNR,\n",
    "        \"TPR\": 1 - FNR,\n",
    "        \"recall\": recall,\n",
    "        \"precision\": precision,\n",
    "        \"min(pre,rec)\": min_pre_rec,  # Correction 3\n",
    "        \"min_constant\": torch.cat([torch.tensor([-torch.inf]), uniq_thresh]),\n",
    "        \"max_constant\": torch.cat([uniq_thresh, torch.tensor([torch.inf])])\n",
    "    }"
   ]
  },
  {
   "cell_type": "code",
   "execution_count": 10,
   "id": "9a2cadf1-972f-4352-9e5c-5854d41ffe37",
   "metadata": {},
   "outputs": [],
   "source": [
    "def PR_curve_0(pred_tensor, label_tensor):\n",
    "    \"\"\"Precision-Recall curve.\n",
    "    \"\"\"\n",
    "    is_positive = label_tensor == 1\n",
    "    is_negative = label_tensor != 1\n",
    "    fn_diff = torch.where(is_positive, -1, 0)\n",
    "    fp_diff = torch.where(is_positive, 0, 1)\n",
    "    thresh_tensor = -pred_tensor.flatten()\n",
    "    sorted_indices = torch.argsort(thresh_tensor)\n",
    "    fp_denom = torch.sum(is_negative) #or 1 for AUM based on count instead of rate\n",
    "    fn_denom = torch.sum(is_positive) #or 1 for AUM based on count instead of rate\n",
    "    sorted_fp_cum = fp_diff[\n",
    "        sorted_indices].cumsum(axis=0)/fp_denom\n",
    "    sorted_fn_cum = -fn_diff[\n",
    "        sorted_indices].flip(0).cumsum(axis=0).flip(0)/fn_denom\n",
    "    sorted_thresh = thresh_tensor[sorted_indices]\n",
    "    sorted_is_diff = sorted_thresh.diff() != 0\n",
    "    sorted_fp_end = torch.cat([sorted_is_diff, torch.tensor([True])])\n",
    "    sorted_fn_end = torch.cat([torch.tensor([True]), sorted_is_diff])\n",
    "    uniq_thresh = sorted_thresh[sorted_fp_end]\n",
    "    uniq_fp_after = sorted_fp_cum[sorted_fp_end]\n",
    "    uniq_fn_before = sorted_fn_cum[sorted_fn_end]\n",
    "    \n",
    "    \n",
    "    \n",
    "    FPR = torch.cat([torch.tensor([0.0]), uniq_fp_after])\n",
    "    FNR = torch.cat([uniq_fn_before, torch.tensor([0.0])])\n",
    "    total_positives = torch.sum(is_positive)\n",
    "    total_negatives = torch.sum(is_negative)\n",
    "    TP = total_positives * (1 - FNR)\n",
    "    TN = total_negatives * (1 - FPR)\n",
    "    FP = total_negatives * FPR\n",
    "    FN = total_positives * FNR\n",
    "    \n",
    "    precision = torch.zeros_like(TP)\n",
    "    recall = torch.zeros_like(TP)\n",
    "    valid_precision = (TP + FP) != 0\n",
    "    valid_recall = (TP + FN) != 0\n",
    "    precision[valid_precision] = (TP / (TP + FP))[valid_precision]\n",
    "    precision[~valid_precision] = 0\n",
    "    recall[valid_recall] = (TP / (TP + FN))[valid_recall]\n",
    "    recall[~valid_recall] = 0\n",
    "    \n",
    "    min_pre_rec = torch.minimum(1-precision, 1-recall)\n",
    "    \n",
    "    return {\n",
    "        \"FPR\": FPR,\n",
    "        \"FNR\": FNR,\n",
    "        \"TPR\": 1 - FNR,\n",
    "        \"recall\": recall,\n",
    "        \"precision\": precision,\n",
    "        \"min(pre,rec)\": min_pre_rec,  # Correction 3\n",
    "        \"min_constant\": torch.cat([torch.tensor([-torch.inf]), uniq_thresh]),\n",
    "        \"max_constant\": torch.cat([uniq_thresh, torch.tensor([torch.inf])])\n",
    "    }"
   ]
  },
  {
   "cell_type": "code",
   "execution_count": 11,
   "id": "1de7782b-692c-40d2-a445-df509724fbff",
   "metadata": {},
   "outputs": [],
   "source": [
    "def PR_curve_1(pred_tensor, label_tensor):\n",
    "    \"\"\"Precision-Recall curve.\n",
    "    \"\"\"\n",
    "    is_positive = label_tensor == 1\n",
    "    is_negative = label_tensor != 1\n",
    "    fn_diff = torch.where(is_positive, -1, 0)\n",
    "    fp_diff = torch.where(is_positive, 0, 1)\n",
    "    thresh_tensor = -pred_tensor.flatten()\n",
    "    sorted_indices = torch.argsort(thresh_tensor)\n",
    "    fp_denom = torch.sum(is_negative) #or 1 for AUM based on count instead of rate\n",
    "    fn_denom = torch.sum(is_positive) #or 1 for AUM based on count instead of rate\n",
    "    sorted_fp_cum = fp_diff[\n",
    "        sorted_indices].cumsum(axis=0)/fp_denom\n",
    "    sorted_fn_cum = -fn_diff[\n",
    "        sorted_indices].flip(0).cumsum(axis=0).flip(0)/fn_denom\n",
    "    sorted_thresh = thresh_tensor[sorted_indices]\n",
    "    sorted_is_diff = sorted_thresh.diff() != 0\n",
    "    sorted_fp_end = torch.cat([sorted_is_diff, torch.tensor([True])])\n",
    "    sorted_fn_end = torch.cat([torch.tensor([True]), sorted_is_diff])\n",
    "    uniq_thresh = sorted_thresh[sorted_fp_end]\n",
    "    uniq_fp_after = sorted_fp_cum[sorted_fp_end]\n",
    "    uniq_fn_before = sorted_fn_cum[sorted_fn_end]\n",
    "    \n",
    "    \n",
    "    \n",
    "    FPR = torch.cat([torch.tensor([0.0]), uniq_fp_after])\n",
    "    FNR = torch.cat([uniq_fn_before, torch.tensor([0.0])])\n",
    "    total_positives = torch.sum(is_positive)\n",
    "    total_negatives = torch.sum(is_negative)\n",
    "    TP = total_positives * (1 - FNR)\n",
    "    TN = total_negatives * (1 - FPR)\n",
    "    FP = total_negatives * FPR\n",
    "    FN = total_positives * FNR\n",
    "    \n",
    "    precision = torch.zeros_like(TP)\n",
    "    recall = torch.zeros_like(TP)\n",
    "    valid_precision = (TP + FP) != 0\n",
    "    valid_recall = (TP + FN) != 0\n",
    "    precision[valid_precision] = (TP / (TP + FP))[valid_precision]\n",
    "    precision[~valid_precision] = 1\n",
    "    recall[valid_recall] = (TP / (TP + FN))[valid_recall]\n",
    "    recall[~valid_recall] = 1\n",
    "    \n",
    "    min_pre_rec = torch.minimum(1-precision, 1-recall)\n",
    "    \n",
    "    return {\n",
    "        \"FPR\": FPR,\n",
    "        \"FNR\": FNR,\n",
    "        \"TPR\": 1 - FNR,\n",
    "        \"recall\": recall,\n",
    "        \"precision\": precision,\n",
    "        \"min(pre,rec)\": min_pre_rec,  # Correction 3\n",
    "        \"min_constant\": torch.cat([torch.tensor([-torch.inf]), uniq_thresh]),\n",
    "        \"max_constant\": torch.cat([uniq_thresh, torch.tensor([torch.inf])])\n",
    "    }"
   ]
  },
  {
   "cell_type": "code",
   "execution_count": 12,
   "id": "d8e46722-080b-4bd7-916c-492e36cec4bf",
   "metadata": {},
   "outputs": [
    {
     "data": {
      "text/html": [
       "<div>\n",
       "<style scoped>\n",
       "    .dataframe tbody tr th:only-of-type {\n",
       "        vertical-align: middle;\n",
       "    }\n",
       "\n",
       "    .dataframe tbody tr th {\n",
       "        vertical-align: top;\n",
       "    }\n",
       "\n",
       "    .dataframe thead th {\n",
       "        text-align: right;\n",
       "    }\n",
       "</style>\n",
       "<table border=\"1\" class=\"dataframe\">\n",
       "  <thead>\n",
       "    <tr style=\"text-align: right;\">\n",
       "      <th></th>\n",
       "      <th>FPR</th>\n",
       "      <th>FNR</th>\n",
       "      <th>TPR</th>\n",
       "      <th>recall</th>\n",
       "      <th>precision</th>\n",
       "      <th>min(pre,rec)</th>\n",
       "      <th>min_constant</th>\n",
       "      <th>max_constant</th>\n",
       "    </tr>\n",
       "  </thead>\n",
       "  <tbody>\n",
       "    <tr>\n",
       "      <th>0</th>\n",
       "      <td>0.0</td>\n",
       "      <td>1.0</td>\n",
       "      <td>0.0</td>\n",
       "      <td>0.0</td>\n",
       "      <td>NaN</td>\n",
       "      <td>NaN</td>\n",
       "      <td>-inf</td>\n",
       "      <td>-2.0</td>\n",
       "    </tr>\n",
       "    <tr>\n",
       "      <th>1</th>\n",
       "      <td>0.5</td>\n",
       "      <td>1.0</td>\n",
       "      <td>0.0</td>\n",
       "      <td>0.0</td>\n",
       "      <td>0.000000</td>\n",
       "      <td>1.0</td>\n",
       "      <td>-2.0</td>\n",
       "      <td>-1.5</td>\n",
       "    </tr>\n",
       "    <tr>\n",
       "      <th>2</th>\n",
       "      <td>0.5</td>\n",
       "      <td>0.5</td>\n",
       "      <td>0.5</td>\n",
       "      <td>0.5</td>\n",
       "      <td>0.500000</td>\n",
       "      <td>0.5</td>\n",
       "      <td>-1.5</td>\n",
       "      <td>1.0</td>\n",
       "    </tr>\n",
       "    <tr>\n",
       "      <th>3</th>\n",
       "      <td>0.5</td>\n",
       "      <td>0.0</td>\n",
       "      <td>1.0</td>\n",
       "      <td>1.0</td>\n",
       "      <td>0.666667</td>\n",
       "      <td>0.0</td>\n",
       "      <td>1.0</td>\n",
       "      <td>3.5</td>\n",
       "    </tr>\n",
       "    <tr>\n",
       "      <th>4</th>\n",
       "      <td>1.0</td>\n",
       "      <td>0.0</td>\n",
       "      <td>1.0</td>\n",
       "      <td>1.0</td>\n",
       "      <td>0.500000</td>\n",
       "      <td>0.0</td>\n",
       "      <td>3.5</td>\n",
       "      <td>inf</td>\n",
       "    </tr>\n",
       "  </tbody>\n",
       "</table>\n",
       "</div>"
      ],
      "text/plain": [
       "   FPR  FNR  TPR  recall  precision  min(pre,rec)  min_constant  max_constant\n",
       "0  0.0  1.0  0.0     0.0        NaN           NaN          -inf          -2.0\n",
       "1  0.5  1.0  0.0     0.0   0.000000           1.0          -2.0          -1.5\n",
       "2  0.5  0.5  0.5     0.5   0.500000           0.5          -1.5           1.0\n",
       "3  0.5  0.0  1.0     1.0   0.666667           0.0           1.0           3.5\n",
       "4  1.0  0.0  1.0     1.0   0.500000           0.0           3.5           inf"
      ]
     },
     "execution_count": 12,
     "metadata": {},
     "output_type": "execute_result"
    }
   ],
   "source": [
    "pr_efficient_df = pd.DataFrame(PR_curve(four_pred, four_labels))\n",
    "pr_efficient_df"
   ]
  },
  {
   "cell_type": "code",
   "execution_count": 13,
   "id": "99f4d867-c114-429a-a515-6cfc7f983bfa",
   "metadata": {},
   "outputs": [
    {
     "data": {
      "text/html": [
       "<div>\n",
       "<style scoped>\n",
       "    .dataframe tbody tr th:only-of-type {\n",
       "        vertical-align: middle;\n",
       "    }\n",
       "\n",
       "    .dataframe tbody tr th {\n",
       "        vertical-align: top;\n",
       "    }\n",
       "\n",
       "    .dataframe thead th {\n",
       "        text-align: right;\n",
       "    }\n",
       "</style>\n",
       "<table border=\"1\" class=\"dataframe\">\n",
       "  <thead>\n",
       "    <tr style=\"text-align: right;\">\n",
       "      <th></th>\n",
       "      <th>FPR</th>\n",
       "      <th>FNR</th>\n",
       "      <th>TPR</th>\n",
       "      <th>recall</th>\n",
       "      <th>precision</th>\n",
       "      <th>min(pre,rec)</th>\n",
       "      <th>min_constant</th>\n",
       "      <th>max_constant</th>\n",
       "    </tr>\n",
       "  </thead>\n",
       "  <tbody>\n",
       "    <tr>\n",
       "      <th>0</th>\n",
       "      <td>0.0</td>\n",
       "      <td>1.0</td>\n",
       "      <td>0.0</td>\n",
       "      <td>0.0</td>\n",
       "      <td>0.000000</td>\n",
       "      <td>1.0</td>\n",
       "      <td>-inf</td>\n",
       "      <td>-2.0</td>\n",
       "    </tr>\n",
       "    <tr>\n",
       "      <th>1</th>\n",
       "      <td>0.5</td>\n",
       "      <td>1.0</td>\n",
       "      <td>0.0</td>\n",
       "      <td>0.0</td>\n",
       "      <td>0.000000</td>\n",
       "      <td>1.0</td>\n",
       "      <td>-2.0</td>\n",
       "      <td>-1.5</td>\n",
       "    </tr>\n",
       "    <tr>\n",
       "      <th>2</th>\n",
       "      <td>0.5</td>\n",
       "      <td>0.5</td>\n",
       "      <td>0.5</td>\n",
       "      <td>0.5</td>\n",
       "      <td>0.500000</td>\n",
       "      <td>0.5</td>\n",
       "      <td>-1.5</td>\n",
       "      <td>1.0</td>\n",
       "    </tr>\n",
       "    <tr>\n",
       "      <th>3</th>\n",
       "      <td>0.5</td>\n",
       "      <td>0.0</td>\n",
       "      <td>1.0</td>\n",
       "      <td>1.0</td>\n",
       "      <td>0.666667</td>\n",
       "      <td>0.0</td>\n",
       "      <td>1.0</td>\n",
       "      <td>3.5</td>\n",
       "    </tr>\n",
       "    <tr>\n",
       "      <th>4</th>\n",
       "      <td>1.0</td>\n",
       "      <td>0.0</td>\n",
       "      <td>1.0</td>\n",
       "      <td>1.0</td>\n",
       "      <td>0.500000</td>\n",
       "      <td>0.0</td>\n",
       "      <td>3.5</td>\n",
       "      <td>inf</td>\n",
       "    </tr>\n",
       "  </tbody>\n",
       "</table>\n",
       "</div>"
      ],
      "text/plain": [
       "   FPR  FNR  TPR  recall  precision  min(pre,rec)  min_constant  max_constant\n",
       "0  0.0  1.0  0.0     0.0   0.000000           1.0          -inf          -2.0\n",
       "1  0.5  1.0  0.0     0.0   0.000000           1.0          -2.0          -1.5\n",
       "2  0.5  0.5  0.5     0.5   0.500000           0.5          -1.5           1.0\n",
       "3  0.5  0.0  1.0     1.0   0.666667           0.0           1.0           3.5\n",
       "4  1.0  0.0  1.0     1.0   0.500000           0.0           3.5           inf"
      ]
     },
     "execution_count": 13,
     "metadata": {},
     "output_type": "execute_result"
    }
   ],
   "source": [
    "pr_efficient_df_0 = pd.DataFrame(PR_curve_0(four_pred, four_labels))\n",
    "pr_efficient_df_0"
   ]
  },
  {
   "cell_type": "code",
   "execution_count": 14,
   "id": "2a107b7e-221d-4478-a3d2-39a2b5445301",
   "metadata": {},
   "outputs": [
    {
     "data": {
      "text/html": [
       "<div>\n",
       "<style scoped>\n",
       "    .dataframe tbody tr th:only-of-type {\n",
       "        vertical-align: middle;\n",
       "    }\n",
       "\n",
       "    .dataframe tbody tr th {\n",
       "        vertical-align: top;\n",
       "    }\n",
       "\n",
       "    .dataframe thead th {\n",
       "        text-align: right;\n",
       "    }\n",
       "</style>\n",
       "<table border=\"1\" class=\"dataframe\">\n",
       "  <thead>\n",
       "    <tr style=\"text-align: right;\">\n",
       "      <th></th>\n",
       "      <th>FPR</th>\n",
       "      <th>FNR</th>\n",
       "      <th>TPR</th>\n",
       "      <th>recall</th>\n",
       "      <th>precision</th>\n",
       "      <th>min(pre,rec)</th>\n",
       "      <th>min_constant</th>\n",
       "      <th>max_constant</th>\n",
       "    </tr>\n",
       "  </thead>\n",
       "  <tbody>\n",
       "    <tr>\n",
       "      <th>0</th>\n",
       "      <td>0.0</td>\n",
       "      <td>1.0</td>\n",
       "      <td>0.0</td>\n",
       "      <td>0.0</td>\n",
       "      <td>1.000000</td>\n",
       "      <td>0.0</td>\n",
       "      <td>-inf</td>\n",
       "      <td>-2.0</td>\n",
       "    </tr>\n",
       "    <tr>\n",
       "      <th>1</th>\n",
       "      <td>0.5</td>\n",
       "      <td>1.0</td>\n",
       "      <td>0.0</td>\n",
       "      <td>0.0</td>\n",
       "      <td>0.000000</td>\n",
       "      <td>1.0</td>\n",
       "      <td>-2.0</td>\n",
       "      <td>-1.5</td>\n",
       "    </tr>\n",
       "    <tr>\n",
       "      <th>2</th>\n",
       "      <td>0.5</td>\n",
       "      <td>0.5</td>\n",
       "      <td>0.5</td>\n",
       "      <td>0.5</td>\n",
       "      <td>0.500000</td>\n",
       "      <td>0.5</td>\n",
       "      <td>-1.5</td>\n",
       "      <td>1.0</td>\n",
       "    </tr>\n",
       "    <tr>\n",
       "      <th>3</th>\n",
       "      <td>0.5</td>\n",
       "      <td>0.0</td>\n",
       "      <td>1.0</td>\n",
       "      <td>1.0</td>\n",
       "      <td>0.666667</td>\n",
       "      <td>0.0</td>\n",
       "      <td>1.0</td>\n",
       "      <td>3.5</td>\n",
       "    </tr>\n",
       "    <tr>\n",
       "      <th>4</th>\n",
       "      <td>1.0</td>\n",
       "      <td>0.0</td>\n",
       "      <td>1.0</td>\n",
       "      <td>1.0</td>\n",
       "      <td>0.500000</td>\n",
       "      <td>0.0</td>\n",
       "      <td>3.5</td>\n",
       "      <td>inf</td>\n",
       "    </tr>\n",
       "  </tbody>\n",
       "</table>\n",
       "</div>"
      ],
      "text/plain": [
       "   FPR  FNR  TPR  recall  precision  min(pre,rec)  min_constant  max_constant\n",
       "0  0.0  1.0  0.0     0.0   1.000000           0.0          -inf          -2.0\n",
       "1  0.5  1.0  0.0     0.0   0.000000           1.0          -2.0          -1.5\n",
       "2  0.5  0.5  0.5     0.5   0.500000           0.5          -1.5           1.0\n",
       "3  0.5  0.0  1.0     1.0   0.666667           0.0           1.0           3.5\n",
       "4  1.0  0.0  1.0     1.0   0.500000           0.0           3.5           inf"
      ]
     },
     "execution_count": 14,
     "metadata": {},
     "output_type": "execute_result"
    }
   ],
   "source": [
    "pr_efficient_df_1 = pd.DataFrame(PR_curve_1(four_pred, four_labels))\n",
    "pr_efficient_df_1"
   ]
  },
  {
   "cell_type": "markdown",
   "id": "a72be6f8-6903-4742-b022-b2ce3f13fc9a",
   "metadata": {},
   "source": [
    "---"
   ]
  },
  {
   "cell_type": "markdown",
   "id": "34a9c613-9290-4581-8c3f-2448ca9327dc",
   "metadata": {},
   "source": [
    "## AUC"
   ]
  },
  {
   "cell_type": "code",
   "execution_count": 15,
   "id": "8f5c5dd2-b5c1-4b83-8420-a822230c4bbb",
   "metadata": {},
   "outputs": [
    {
     "name": "stdout",
     "output_type": "stream",
     "text": [
      "tensor([0.0000, 0.5000, 1.0000, 1.0000])\n",
      "tensor([0.0000, 0.0000, 0.5000, 1.0000])\n",
      "tensor([0.0000, 0.5000, 0.6667, 0.5000])\n",
      "tensor([   nan, 0.0000, 0.5000, 0.6667])\n"
     ]
    },
    {
     "data": {
      "text/plain": [
       "tensor(nan)"
      ]
     },
     "execution_count": 15,
     "metadata": {},
     "output_type": "execute_result"
    }
   ],
   "source": [
    "def PR_AUC(pred_tensor, label_tensor):\n",
    "    pr = PR_curve(pred_tensor, label_tensor)\n",
    "    recall_diff = pr[\"recall\"][1:]-pr[\"recall\"][:-1]\n",
    "    precision_sum = pr[\"precision\"][1:]+pr[\"precision\"][:-1]\n",
    "    \n",
    "    print(pr[\"recall\"][1:])\n",
    "    print(pr[\"recall\"][:-1])\n",
    "    print(pr[\"precision\"][1:])\n",
    "    print(pr[\"precision\"][:-1])\n",
    "    \n",
    "    return torch.sum(recall_diff*precision_sum/2.0)\n",
    "PR_AUC(four_pred, four_labels)"
   ]
  },
  {
   "cell_type": "markdown",
   "id": "0172b733-e097-4701-847f-16fdd1098627",
   "metadata": {},
   "source": [
    "If we take all the values of the precision and recall when we use NaN in the case where (TP+FP)=0 we can't compute the value of the AUC.  \n",
    "That is why I made the choice to compute the AUC without that first line so we onlt have numerical values for the computations."
   ]
  },
  {
   "cell_type": "code",
   "execution_count": 16,
   "id": "b027559f-7f07-494f-99c7-7bc01ee5717e",
   "metadata": {},
   "outputs": [],
   "source": [
    "def PR_AUC(pred_tensor, label_tensor):\n",
    "    pr = PR_curve(pred_tensor, label_tensor)\n",
    "    recall_diff = pr[\"recall\"][2:]-pr[\"recall\"][1:4]\n",
    "    precision_sum = pr[\"precision\"][2:]+pr[\"precision\"][1:4]\n",
    "    \n",
    "    #print(pr[\"recall\"][2:])\n",
    "    #print(pr[\"recall\"][1:4])\n",
    "    #print(pr[\"precision\"][2:])\n",
    "    #print(pr[\"precision\"][1:4])\n",
    "    \n",
    "    return torch.sum(recall_diff*precision_sum/2.0)"
   ]
  },
  {
   "cell_type": "code",
   "execution_count": 17,
   "id": "8534f86f-c533-416e-a137-4f4df5c83a84",
   "metadata": {},
   "outputs": [],
   "source": [
    "def PR_AUC_0(pred_tensor, label_tensor):\n",
    "    pr = PR_curve_0(pred_tensor, label_tensor)\n",
    "    recall_diff = pr[\"recall\"][1:]-pr[\"recall\"][:-1]\n",
    "    precision_sum = pr[\"precision\"][1:]+pr[\"precision\"][:-1]\n",
    "    \n",
    "    #print(pr[\"recall\"][1:])\n",
    "    #print(pr[\"recall\"][:-1])\n",
    "    #print(pr[\"precision\"][1:])\n",
    "    #print(pr[\"precision\"][:-1])\n",
    "    \n",
    "    return torch.sum(recall_diff*precision_sum/2.0)"
   ]
  },
  {
   "cell_type": "code",
   "execution_count": 18,
   "id": "2244b741-05e3-4a78-b806-4bb89c3c1b01",
   "metadata": {},
   "outputs": [],
   "source": [
    "def PR_AUC_1(pred_tensor, label_tensor):\n",
    "    pr = PR_curve_1(pred_tensor, label_tensor)\n",
    "    recall_diff = pr[\"recall\"][1:]-pr[\"recall\"][:-1]\n",
    "    precision_sum = pr[\"precision\"][1:]+pr[\"precision\"][:-1]\n",
    "    \n",
    "    #print(pr[\"recall\"][1:])\n",
    "    #print(pr[\"recall\"][:-1])\n",
    "    #print(pr[\"precision\"][1:])\n",
    "    #print(pr[\"precision\"][:-1])\n",
    "    \n",
    "    return torch.sum(recall_diff*precision_sum/2.0)"
   ]
  },
  {
   "cell_type": "code",
   "execution_count": 19,
   "id": "367aefcf-ce82-4a87-835c-2bd192eee579",
   "metadata": {},
   "outputs": [
    {
     "data": {
      "text/plain": [
       "(tensor(0.4167), tensor(0.4167), tensor(0.4167))"
      ]
     },
     "execution_count": 19,
     "metadata": {},
     "output_type": "execute_result"
    }
   ],
   "source": [
    "PR_AUC(four_pred, four_labels), PR_AUC_0(four_pred, four_labels), PR_AUC_1(four_pred, four_labels)"
   ]
  },
  {
   "cell_type": "markdown",
   "id": "e71bd6f1-c9e3-4393-a926-08ef5c49469e",
   "metadata": {},
   "source": [
    "In this case the AUC is the same no matter what we set the value of the precision when its dominator is equal to zero."
   ]
  },
  {
   "cell_type": "markdown",
   "id": "4e9ec8d7-dee2-46c8-8ccc-b757d3a03a23",
   "metadata": {},
   "source": [
    "---"
   ]
  },
  {
   "cell_type": "markdown",
   "id": "32e5d8ea-ab76-4418-b2c0-063be7567ec9",
   "metadata": {},
   "source": [
    "## AUC plots"
   ]
  },
  {
   "cell_type": "code",
   "execution_count": 20,
   "id": "b636606b-6954-44dc-8004-326432cd35f1",
   "metadata": {},
   "outputs": [],
   "source": [
    "pr = PR_curve(four_pred, four_labels)\n",
    "pr_0 = PR_curve_0(four_pred, four_labels)\n",
    "pr_1 = PR_curve_1(four_pred, four_labels)"
   ]
  },
  {
   "cell_type": "code",
   "execution_count": 21,
   "id": "94da6c79-e615-4482-95b8-ea72b8b35d93",
   "metadata": {},
   "outputs": [
    {
     "data": {
      "text/plain": [
       "[<matplotlib.axis.YTick at 0x145bd90e3090>,\n",
       " <matplotlib.axis.YTick at 0x145bd90d3a90>,\n",
       " <matplotlib.axis.YTick at 0x145bd916ab10>,\n",
       " <matplotlib.axis.YTick at 0x145bd9174f10>,\n",
       " <matplotlib.axis.YTick at 0x145bd9169f10>,\n",
       " <matplotlib.axis.YTick at 0x145bd9177e50>]"
      ]
     },
     "execution_count": 21,
     "metadata": {},
     "output_type": "execute_result"
    },
    {
     "data": {
      "image/png": "[encoded data removed]",
      "text/plain": [
       "<Figure size 1500x600 with 3 Axes>"
      ]
     },
     "metadata": {},
     "output_type": "display_data"
    }
   ],
   "source": [
    "fig, (ax1, ax2, ax3) = plt.subplots(1, 3, figsize=(15, 6))\n",
    "fig.suptitle('AUC depending on the precision value')\n",
    "\n",
    "ax1.plot(pr[\"recall\"][1:], pr[\"precision\"][1:])\n",
    "ax1.set_title('Precision equal NaN')\n",
    "ax1.set_xticks(np.arange(0, 1.1, 0.2))\n",
    "ax1.set_yticks(np.arange(0, 1.1, 0.2))\n",
    "\n",
    "ax2.plot(pr_0[\"recall\"][0:], pr_0[\"precision\"][0:])\n",
    "ax2.set_title('Precision equal 0')\n",
    "ax2.set_xticks(np.arange(0, 1.1, 0.2))\n",
    "ax2.set_yticks(np.arange(0, 1.1, 0.2))\n",
    "\n",
    "ax3.plot(pr_1[\"recall\"][0:], pr_1[\"precision\"][0:])\n",
    "ax3.set_title('Precision equal 1')\n",
    "ax3.set_xticks(np.arange(0, 1.1, 0.2))\n",
    "ax3.set_yticks(np.arange(0, 1.1, 0.2))"
   ]
  },
  {
   "cell_type": "markdown",
   "id": "5963a28d-daf1-435d-be91-194b3af2b156",
   "metadata": {},
   "source": [
    "---"
   ]
  },
  {
   "cell_type": "markdown",
   "id": "2fc8ca8d-8b5d-4c47-bda2-f127d654f86e",
   "metadata": {},
   "source": [
    "## AUM"
   ]
  },
  {
   "cell_type": "code",
   "execution_count": 22,
   "id": "b9d756f4-3ebc-47ec-8884-18abe5437902",
   "metadata": {},
   "outputs": [],
   "source": [
    "def Proposed_AUM(pred_tensor, label_tensor):\n",
    "    pr = PR_curve(pred_tensor, label_tensor)\n",
    "    min_pre_rec = pr[\"min(pre,rec)\"][1:-1]\n",
    "    constant_diff = pr[\"min_constant\"][1:].diff()\n",
    "    return torch.sum(min_pre_rec * constant_diff)"
   ]
  },
  {
   "cell_type": "code",
   "execution_count": 23,
   "id": "6fb6cd7c-0c3a-47a4-bb05-9d8db614ff34",
   "metadata": {},
   "outputs": [],
   "source": [
    "def Proposed_AUM_0(pred_tensor, label_tensor):\n",
    "    pr = PR_curve_0(pred_tensor, label_tensor)\n",
    "    min_pre_rec = pr[\"min(pre,rec)\"][1:-1]\n",
    "    constant_diff = pr[\"min_constant\"][1:].diff()\n",
    "    return torch.sum(min_pre_rec * constant_diff)"
   ]
  },
  {
   "cell_type": "code",
   "execution_count": 24,
   "id": "ed7caf6f-5d70-47d5-bde4-83699db4b5e1",
   "metadata": {},
   "outputs": [],
   "source": [
    "def Proposed_AUM_1(pred_tensor, label_tensor):\n",
    "    pr = PR_curve_1(pred_tensor, label_tensor)\n",
    "    min_pre_rec = pr[\"min(pre,rec)\"][1:-1]\n",
    "    constant_diff = pr[\"min_constant\"][1:].diff()\n",
    "    return torch.sum(min_pre_rec * constant_diff)"
   ]
  },
  {
   "cell_type": "code",
   "execution_count": 25,
   "id": "32431b47-4112-4bae-9b0a-bb64802220e7",
   "metadata": {},
   "outputs": [
    {
     "data": {
      "text/plain": [
       "(tensor(1.7500), tensor(1.7500), tensor(1.7500))"
      ]
     },
     "execution_count": 25,
     "metadata": {},
     "output_type": "execute_result"
    }
   ],
   "source": [
    "Proposed_AUM(four_pred, four_labels), Proposed_AUM_0(four_pred, four_labels), Proposed_AUM_1(four_pred, four_labels)"
   ]
  },
  {
   "cell_type": "markdown",
   "id": "507d3825-5105-4eeb-9215-f76e0c09fab9",
   "metadata": {},
   "source": [
    "As expected, the results are the same as the ones using R."
   ]
  },
  {
   "cell_type": "markdown",
   "id": "553bec26-7c2f-4b19-a323-a65226a04b91",
   "metadata": {},
   "source": [
    "---"
   ]
  },
  {
   "cell_type": "markdown",
   "id": "c454f638-2a2c-421f-ba64-eb1e7bb8d35d",
   "metadata": {},
   "source": [
    "---"
   ]
  },
  {
   "cell_type": "markdown",
   "id": "422dd65f-f0ab-4d52-9a7b-5ecdd3423e2a",
   "metadata": {},
   "source": [
    "# Second Data"
   ]
  },
  {
   "cell_type": "code",
   "execution_count": 26,
   "id": "893d9abd-2123-47a7-adbf-f19c17e0b94c",
   "metadata": {},
   "outputs": [],
   "source": [
    "four_labels = torch.tensor([-1, -1, 1, 1])\n",
    "four_pred = torch.tensor([0.1, 0.4, 0.35, 0.8])\n",
    "\n",
    "#This is the example used in the precision_recall_curve page on the scikit learn website.\n",
    "#With those values the AUC changes drastically depending on the value chosen for precision when its dominator is equal to 0"
   ]
  },
  {
   "cell_type": "code",
   "execution_count": 27,
   "id": "2d211bf2-165b-4637-8331-2c4b31a3025e",
   "metadata": {},
   "outputs": [
    {
     "data": {
      "text/html": [
       "<div>\n",
       "<style scoped>\n",
       "    .dataframe tbody tr th:only-of-type {\n",
       "        vertical-align: middle;\n",
       "    }\n",
       "\n",
       "    .dataframe tbody tr th {\n",
       "        vertical-align: top;\n",
       "    }\n",
       "\n",
       "    .dataframe thead th {\n",
       "        text-align: right;\n",
       "    }\n",
       "</style>\n",
       "<table border=\"1\" class=\"dataframe\">\n",
       "  <thead>\n",
       "    <tr style=\"text-align: right;\">\n",
       "      <th></th>\n",
       "      <th>FPR</th>\n",
       "      <th>FNR</th>\n",
       "      <th>TPR</th>\n",
       "      <th>recall</th>\n",
       "      <th>precision</th>\n",
       "      <th>min(pre,rec)</th>\n",
       "      <th>min_constant</th>\n",
       "      <th>max_constant</th>\n",
       "    </tr>\n",
       "  </thead>\n",
       "  <tbody>\n",
       "    <tr>\n",
       "      <th>0</th>\n",
       "      <td>0.0</td>\n",
       "      <td>1.0</td>\n",
       "      <td>0.0</td>\n",
       "      <td>0.0</td>\n",
       "      <td>NaN</td>\n",
       "      <td>NaN</td>\n",
       "      <td>-inf</td>\n",
       "      <td>-0.80</td>\n",
       "    </tr>\n",
       "    <tr>\n",
       "      <th>1</th>\n",
       "      <td>0.0</td>\n",
       "      <td>0.5</td>\n",
       "      <td>0.5</td>\n",
       "      <td>0.5</td>\n",
       "      <td>1.000000</td>\n",
       "      <td>0.0</td>\n",
       "      <td>-0.80</td>\n",
       "      <td>-0.40</td>\n",
       "    </tr>\n",
       "    <tr>\n",
       "      <th>2</th>\n",
       "      <td>0.5</td>\n",
       "      <td>0.5</td>\n",
       "      <td>0.5</td>\n",
       "      <td>0.5</td>\n",
       "      <td>0.500000</td>\n",
       "      <td>0.5</td>\n",
       "      <td>-0.40</td>\n",
       "      <td>-0.35</td>\n",
       "    </tr>\n",
       "    <tr>\n",
       "      <th>3</th>\n",
       "      <td>0.5</td>\n",
       "      <td>0.0</td>\n",
       "      <td>1.0</td>\n",
       "      <td>1.0</td>\n",
       "      <td>0.666667</td>\n",
       "      <td>0.0</td>\n",
       "      <td>-0.35</td>\n",
       "      <td>-0.10</td>\n",
       "    </tr>\n",
       "    <tr>\n",
       "      <th>4</th>\n",
       "      <td>1.0</td>\n",
       "      <td>0.0</td>\n",
       "      <td>1.0</td>\n",
       "      <td>1.0</td>\n",
       "      <td>0.500000</td>\n",
       "      <td>0.0</td>\n",
       "      <td>-0.10</td>\n",
       "      <td>inf</td>\n",
       "    </tr>\n",
       "  </tbody>\n",
       "</table>\n",
       "</div>"
      ],
      "text/plain": [
       "   FPR  FNR  TPR  recall  precision  min(pre,rec)  min_constant  max_constant\n",
       "0  0.0  1.0  0.0     0.0        NaN           NaN          -inf         -0.80\n",
       "1  0.0  0.5  0.5     0.5   1.000000           0.0         -0.80         -0.40\n",
       "2  0.5  0.5  0.5     0.5   0.500000           0.5         -0.40         -0.35\n",
       "3  0.5  0.0  1.0     1.0   0.666667           0.0         -0.35         -0.10\n",
       "4  1.0  0.0  1.0     1.0   0.500000           0.0         -0.10           inf"
      ]
     },
     "execution_count": 27,
     "metadata": {},
     "output_type": "execute_result"
    }
   ],
   "source": [
    "pr_efficient_df = pd.DataFrame(PR_curve(four_pred, four_labels))\n",
    "pr_efficient_df"
   ]
  },
  {
   "cell_type": "code",
   "execution_count": 28,
   "id": "4cd00b54-4109-4bd2-915d-d63560612856",
   "metadata": {},
   "outputs": [
    {
     "data": {
      "text/html": [
       "<div>\n",
       "<style scoped>\n",
       "    .dataframe tbody tr th:only-of-type {\n",
       "        vertical-align: middle;\n",
       "    }\n",
       "\n",
       "    .dataframe tbody tr th {\n",
       "        vertical-align: top;\n",
       "    }\n",
       "\n",
       "    .dataframe thead th {\n",
       "        text-align: right;\n",
       "    }\n",
       "</style>\n",
       "<table border=\"1\" class=\"dataframe\">\n",
       "  <thead>\n",
       "    <tr style=\"text-align: right;\">\n",
       "      <th></th>\n",
       "      <th>FPR</th>\n",
       "      <th>FNR</th>\n",
       "      <th>TPR</th>\n",
       "      <th>recall</th>\n",
       "      <th>precision</th>\n",
       "      <th>min(pre,rec)</th>\n",
       "      <th>min_constant</th>\n",
       "      <th>max_constant</th>\n",
       "    </tr>\n",
       "  </thead>\n",
       "  <tbody>\n",
       "    <tr>\n",
       "      <th>0</th>\n",
       "      <td>0.0</td>\n",
       "      <td>1.0</td>\n",
       "      <td>0.0</td>\n",
       "      <td>0.0</td>\n",
       "      <td>0.000000</td>\n",
       "      <td>1.0</td>\n",
       "      <td>-inf</td>\n",
       "      <td>-0.80</td>\n",
       "    </tr>\n",
       "    <tr>\n",
       "      <th>1</th>\n",
       "      <td>0.0</td>\n",
       "      <td>0.5</td>\n",
       "      <td>0.5</td>\n",
       "      <td>0.5</td>\n",
       "      <td>1.000000</td>\n",
       "      <td>0.0</td>\n",
       "      <td>-0.80</td>\n",
       "      <td>-0.40</td>\n",
       "    </tr>\n",
       "    <tr>\n",
       "      <th>2</th>\n",
       "      <td>0.5</td>\n",
       "      <td>0.5</td>\n",
       "      <td>0.5</td>\n",
       "      <td>0.5</td>\n",
       "      <td>0.500000</td>\n",
       "      <td>0.5</td>\n",
       "      <td>-0.40</td>\n",
       "      <td>-0.35</td>\n",
       "    </tr>\n",
       "    <tr>\n",
       "      <th>3</th>\n",
       "      <td>0.5</td>\n",
       "      <td>0.0</td>\n",
       "      <td>1.0</td>\n",
       "      <td>1.0</td>\n",
       "      <td>0.666667</td>\n",
       "      <td>0.0</td>\n",
       "      <td>-0.35</td>\n",
       "      <td>-0.10</td>\n",
       "    </tr>\n",
       "    <tr>\n",
       "      <th>4</th>\n",
       "      <td>1.0</td>\n",
       "      <td>0.0</td>\n",
       "      <td>1.0</td>\n",
       "      <td>1.0</td>\n",
       "      <td>0.500000</td>\n",
       "      <td>0.0</td>\n",
       "      <td>-0.10</td>\n",
       "      <td>inf</td>\n",
       "    </tr>\n",
       "  </tbody>\n",
       "</table>\n",
       "</div>"
      ],
      "text/plain": [
       "   FPR  FNR  TPR  recall  precision  min(pre,rec)  min_constant  max_constant\n",
       "0  0.0  1.0  0.0     0.0   0.000000           1.0          -inf         -0.80\n",
       "1  0.0  0.5  0.5     0.5   1.000000           0.0         -0.80         -0.40\n",
       "2  0.5  0.5  0.5     0.5   0.500000           0.5         -0.40         -0.35\n",
       "3  0.5  0.0  1.0     1.0   0.666667           0.0         -0.35         -0.10\n",
       "4  1.0  0.0  1.0     1.0   0.500000           0.0         -0.10           inf"
      ]
     },
     "execution_count": 28,
     "metadata": {},
     "output_type": "execute_result"
    }
   ],
   "source": [
    "pr_efficient_df_0 = pd.DataFrame(PR_curve_0(four_pred, four_labels))\n",
    "pr_efficient_df_0"
   ]
  },
  {
   "cell_type": "code",
   "execution_count": 29,
   "id": "5bced660-fa05-4fc0-9a72-753be1bb3f15",
   "metadata": {},
   "outputs": [
    {
     "data": {
      "text/html": [
       "<div>\n",
       "<style scoped>\n",
       "    .dataframe tbody tr th:only-of-type {\n",
       "        vertical-align: middle;\n",
       "    }\n",
       "\n",
       "    .dataframe tbody tr th {\n",
       "        vertical-align: top;\n",
       "    }\n",
       "\n",
       "    .dataframe thead th {\n",
       "        text-align: right;\n",
       "    }\n",
       "</style>\n",
       "<table border=\"1\" class=\"dataframe\">\n",
       "  <thead>\n",
       "    <tr style=\"text-align: right;\">\n",
       "      <th></th>\n",
       "      <th>FPR</th>\n",
       "      <th>FNR</th>\n",
       "      <th>TPR</th>\n",
       "      <th>recall</th>\n",
       "      <th>precision</th>\n",
       "      <th>min(pre,rec)</th>\n",
       "      <th>min_constant</th>\n",
       "      <th>max_constant</th>\n",
       "    </tr>\n",
       "  </thead>\n",
       "  <tbody>\n",
       "    <tr>\n",
       "      <th>0</th>\n",
       "      <td>0.0</td>\n",
       "      <td>1.0</td>\n",
       "      <td>0.0</td>\n",
       "      <td>0.0</td>\n",
       "      <td>1.000000</td>\n",
       "      <td>0.0</td>\n",
       "      <td>-inf</td>\n",
       "      <td>-0.80</td>\n",
       "    </tr>\n",
       "    <tr>\n",
       "      <th>1</th>\n",
       "      <td>0.0</td>\n",
       "      <td>0.5</td>\n",
       "      <td>0.5</td>\n",
       "      <td>0.5</td>\n",
       "      <td>1.000000</td>\n",
       "      <td>0.0</td>\n",
       "      <td>-0.80</td>\n",
       "      <td>-0.40</td>\n",
       "    </tr>\n",
       "    <tr>\n",
       "      <th>2</th>\n",
       "      <td>0.5</td>\n",
       "      <td>0.5</td>\n",
       "      <td>0.5</td>\n",
       "      <td>0.5</td>\n",
       "      <td>0.500000</td>\n",
       "      <td>0.5</td>\n",
       "      <td>-0.40</td>\n",
       "      <td>-0.35</td>\n",
       "    </tr>\n",
       "    <tr>\n",
       "      <th>3</th>\n",
       "      <td>0.5</td>\n",
       "      <td>0.0</td>\n",
       "      <td>1.0</td>\n",
       "      <td>1.0</td>\n",
       "      <td>0.666667</td>\n",
       "      <td>0.0</td>\n",
       "      <td>-0.35</td>\n",
       "      <td>-0.10</td>\n",
       "    </tr>\n",
       "    <tr>\n",
       "      <th>4</th>\n",
       "      <td>1.0</td>\n",
       "      <td>0.0</td>\n",
       "      <td>1.0</td>\n",
       "      <td>1.0</td>\n",
       "      <td>0.500000</td>\n",
       "      <td>0.0</td>\n",
       "      <td>-0.10</td>\n",
       "      <td>inf</td>\n",
       "    </tr>\n",
       "  </tbody>\n",
       "</table>\n",
       "</div>"
      ],
      "text/plain": [
       "   FPR  FNR  TPR  recall  precision  min(pre,rec)  min_constant  max_constant\n",
       "0  0.0  1.0  0.0     0.0   1.000000           0.0          -inf         -0.80\n",
       "1  0.0  0.5  0.5     0.5   1.000000           0.0         -0.80         -0.40\n",
       "2  0.5  0.5  0.5     0.5   0.500000           0.5         -0.40         -0.35\n",
       "3  0.5  0.0  1.0     1.0   0.666667           0.0         -0.35         -0.10\n",
       "4  1.0  0.0  1.0     1.0   0.500000           0.0         -0.10           inf"
      ]
     },
     "execution_count": 29,
     "metadata": {},
     "output_type": "execute_result"
    }
   ],
   "source": [
    "pr_efficient_df_1 = pd.DataFrame(PR_curve_1(four_pred, four_labels))\n",
    "pr_efficient_df_1"
   ]
  },
  {
   "cell_type": "markdown",
   "id": "e2a56690-c146-4ed7-8ad7-1ac034a7b8e9",
   "metadata": {},
   "source": [
    "---"
   ]
  },
  {
   "cell_type": "code",
   "execution_count": 30,
   "id": "d683e115-b90f-486c-a679-b14b1be2e4d0",
   "metadata": {},
   "outputs": [
    {
     "data": {
      "text/plain": [
       "(tensor(0.2917), tensor(0.5417), tensor(0.7917))"
      ]
     },
     "execution_count": 30,
     "metadata": {},
     "output_type": "execute_result"
    }
   ],
   "source": [
    "PR_AUC(four_pred, four_labels), PR_AUC_0(four_pred, four_labels), PR_AUC_1(four_pred, four_labels)"
   ]
  },
  {
   "cell_type": "code",
   "execution_count": 31,
   "id": "f8dfaea6-fe22-4fa6-8402-f5c4b3bbb666",
   "metadata": {},
   "outputs": [],
   "source": [
    "pr = PR_curve(four_pred, four_labels)\n",
    "pr_0 = PR_curve_0(four_pred, four_labels)\n",
    "pr_1 = PR_curve_1(four_pred, four_labels)"
   ]
  },
  {
   "cell_type": "code",
   "execution_count": 32,
   "id": "bd5482f7-9533-4edb-8166-9eb255373de1",
   "metadata": {},
   "outputs": [
    {
     "data": {
      "text/plain": [
       "[<matplotlib.axis.YTick at 0x145bd9029a50>,\n",
       " <matplotlib.axis.YTick at 0x145bd908c050>,\n",
       " <matplotlib.axis.YTick at 0x145bd909e050>,\n",
       " <matplotlib.axis.YTick at 0x145bd90ac290>,\n",
       " <matplotlib.axis.YTick at 0x145bd90ae650>,\n",
       " <matplotlib.axis.YTick at 0x145bd8ebc9d0>]"
      ]
     },
     "execution_count": 32,
     "metadata": {},
     "output_type": "execute_result"
    },
    {
     "data": {
      "image/png": "[encoded data removed]",
      "text/plain": [
       "<Figure size 1500x600 with 3 Axes>"
      ]
     },
     "metadata": {},
     "output_type": "display_data"
    }
   ],
   "source": [
    "fig, (ax1, ax2, ax3) = plt.subplots(1, 3, figsize=(15, 6))\n",
    "fig.suptitle('AUC depending on the precision value')\n",
    "\n",
    "ax1.plot(pr[\"recall\"][1:], pr[\"precision\"][1:])\n",
    "ax1.set_title('Precision equal NaN')\n",
    "ax1.set_xticks(np.arange(0, 1.1, 0.2))\n",
    "ax1.set_yticks(np.arange(0, 1.1, 0.2))\n",
    "\n",
    "ax2.plot(pr_0[\"recall\"][0:], pr_0[\"precision\"][0:])\n",
    "ax2.set_title('Precision equal 0')\n",
    "ax2.set_xticks(np.arange(0, 1.1, 0.2))\n",
    "ax2.set_yticks(np.arange(0, 1.1, 0.2))\n",
    "\n",
    "ax3.plot(pr_1[\"recall\"][0:], pr_1[\"precision\"][0:])\n",
    "ax3.set_title('Precision equal 1')\n",
    "ax3.set_xticks(np.arange(0, 1.1, 0.2))\n",
    "ax3.set_yticks(np.arange(0, 1.1, 0.2))"
   ]
  },
  {
   "cell_type": "code",
   "execution_count": 33,
   "id": "ffdfd05a-6b3a-4938-86ae-d92d299ddf1c",
   "metadata": {},
   "outputs": [
    {
     "data": {
      "text/plain": [
       "(tensor(0.0250), tensor(0.0250), tensor(0.0250))"
      ]
     },
     "execution_count": 33,
     "metadata": {},
     "output_type": "execute_result"
    }
   ],
   "source": [
    "Proposed_AUM(four_pred, four_labels), Proposed_AUM_0(four_pred, four_labels), Proposed_AUM_1(four_pred, four_labels)"
   ]
  },
  {
   "cell_type": "code",
   "execution_count": null,
   "id": "c6af395f-7168-4d21-8c9f-5582c4ce376d",
   "metadata": {},
   "outputs": [],
   "source": []
  }
 ],
 "metadata": {
  "kernelspec": {
   "display_name": "Python 3.11",
   "language": "python",
   "name": "python3"
  },
  "language_info": {
   "codemirror_mode": {
    "name": "ipython",
    "version": 3
   },
   "file_extension": ".py",
   "mimetype": "text/x-python",
   "name": "python",
   "nbconvert_exporter": "python",
   "pygments_lexer": "ipython3",
   "version": "3.11.5"
  }
 },
 "nbformat": 4,
 "nbformat_minor": 5
}
