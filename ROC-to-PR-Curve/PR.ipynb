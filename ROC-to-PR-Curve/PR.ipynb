{
 "cells": [
  {
   "cell_type": "code",
   "execution_count": 1,
   "id": "04e3fd18-0df3-44bd-9545-63d098ef95a2",
   "metadata": {},
   "outputs": [],
   "source": [
    "import torch\n",
    "import pandas as pd\n",
    "import numpy as np"
   ]
  },
  {
   "cell_type": "code",
   "execution_count": 2,
   "id": "3902e29e-6bcf-417a-ab3a-b8a77214a623",
   "metadata": {},
   "outputs": [],
   "source": [
    "four_labels = torch.tensor([-1,-1,1,1])\n",
    "four_pred = torch.tensor([2.0, -3.5, -1.0, 1.5])"
   ]
  },
  {
   "cell_type": "markdown",
   "id": "1c8f9f03-6ebd-4936-8af0-0714a56089d6",
   "metadata": {},
   "source": [
    "---"
   ]
  },
  {
   "cell_type": "markdown",
   "id": "acf316fc-d86f-4865-89bf-e336a9f10584",
   "metadata": {},
   "source": [
    "This notebook aims to transform python code for ROC curve to PR curve just like I did in R.\n",
    "I also used scikit learn to confirm my results.  \n",
    "Finally I studied the different values of the PR AUC depending on the precision value in the case where (TP+FP)=0."
   ]
  },
  {
   "cell_type": "markdown",
   "id": "bc221130-ff49-4008-ac95-7b5304b0ad40",
   "metadata": {},
   "source": [
    "---"
   ]
  },
  {
   "cell_type": "markdown",
   "id": "59d8e8a0-0508-4c2e-95bb-26955f516d5b",
   "metadata": {},
   "source": [
    "# ROC"
   ]
  },
  {
   "cell_type": "markdown",
   "id": "3bd65f64-aebb-43db-9f2e-9d64e24087ed",
   "metadata": {},
   "source": [
    "The following ROC codes can be found [here.](https://tdhock.github.io/blog/2024/torch-roc-aum/)"
   ]
  },
  {
   "cell_type": "code",
   "execution_count": 3,
   "id": "6a0f9554-fbdb-455e-a91b-b0dd2c0bc659",
   "metadata": {},
   "outputs": [
    {
     "data": {
      "text/html": [
       "<div>\n",
       "<style scoped>\n",
       "    .dataframe tbody tr th:only-of-type {\n",
       "        vertical-align: middle;\n",
       "    }\n",
       "\n",
       "    .dataframe tbody tr th {\n",
       "        vertical-align: top;\n",
       "    }\n",
       "\n",
       "    .dataframe thead th {\n",
       "        text-align: right;\n",
       "    }\n",
       "</style>\n",
       "<table border=\"1\" class=\"dataframe\">\n",
       "  <thead>\n",
       "    <tr style=\"text-align: right;\">\n",
       "      <th></th>\n",
       "      <th>FPR</th>\n",
       "      <th>FNR</th>\n",
       "      <th>TPR</th>\n",
       "      <th>min(FPR,FNR)</th>\n",
       "      <th>min_constant</th>\n",
       "      <th>max_constant</th>\n",
       "    </tr>\n",
       "  </thead>\n",
       "  <tbody>\n",
       "    <tr>\n",
       "      <th>0</th>\n",
       "      <td>0.0</td>\n",
       "      <td>1.0</td>\n",
       "      <td>0.0</td>\n",
       "      <td>0.0</td>\n",
       "      <td>-inf</td>\n",
       "      <td>-2.0</td>\n",
       "    </tr>\n",
       "    <tr>\n",
       "      <th>1</th>\n",
       "      <td>0.5</td>\n",
       "      <td>1.0</td>\n",
       "      <td>0.0</td>\n",
       "      <td>0.5</td>\n",
       "      <td>-2.0</td>\n",
       "      <td>-1.5</td>\n",
       "    </tr>\n",
       "    <tr>\n",
       "      <th>2</th>\n",
       "      <td>0.5</td>\n",
       "      <td>0.5</td>\n",
       "      <td>0.5</td>\n",
       "      <td>0.5</td>\n",
       "      <td>-1.5</td>\n",
       "      <td>1.0</td>\n",
       "    </tr>\n",
       "    <tr>\n",
       "      <th>3</th>\n",
       "      <td>0.5</td>\n",
       "      <td>0.0</td>\n",
       "      <td>1.0</td>\n",
       "      <td>0.0</td>\n",
       "      <td>1.0</td>\n",
       "      <td>3.5</td>\n",
       "    </tr>\n",
       "    <tr>\n",
       "      <th>4</th>\n",
       "      <td>1.0</td>\n",
       "      <td>0.0</td>\n",
       "      <td>1.0</td>\n",
       "      <td>0.0</td>\n",
       "      <td>3.5</td>\n",
       "      <td>inf</td>\n",
       "    </tr>\n",
       "  </tbody>\n",
       "</table>\n",
       "</div>"
      ],
      "text/plain": [
       "   FPR  FNR  TPR  min(FPR,FNR)  min_constant  max_constant\n",
       "0  0.0  1.0  0.0           0.0          -inf          -2.0\n",
       "1  0.5  1.0  0.0           0.5          -2.0          -1.5\n",
       "2  0.5  0.5  0.5           0.5          -1.5           1.0\n",
       "3  0.5  0.0  1.0           0.0           1.0           3.5\n",
       "4  1.0  0.0  1.0           0.0           3.5           inf"
      ]
     },
     "execution_count": 3,
     "metadata": {},
     "output_type": "execute_result"
    }
   ],
   "source": [
    "def ROC_curve(pred_tensor, label_tensor):\n",
    "    \"\"\"Receiver Operating Characteristic curve.\n",
    "    \"\"\"\n",
    "    is_positive = label_tensor == 1\n",
    "    is_negative = label_tensor != 1\n",
    "    fn_diff = torch.where(is_positive, -1, 0)\n",
    "    fp_diff = torch.where(is_positive, 0, 1)\n",
    "    thresh_tensor = -pred_tensor.flatten()\n",
    "    sorted_indices = torch.argsort(thresh_tensor)\n",
    "    fp_denom = torch.sum(is_negative) #or 1 for AUM based on count instead of rate\n",
    "    fn_denom = torch.sum(is_positive) #or 1 for AUM based on count instead of rate\n",
    "    sorted_fp_cum = fp_diff[\n",
    "        sorted_indices].cumsum(axis=0)/fp_denom\n",
    "    sorted_fn_cum = -fn_diff[\n",
    "        sorted_indices].flip(0).cumsum(axis=0).flip(0)/fn_denom\n",
    "    sorted_thresh = thresh_tensor[sorted_indices]\n",
    "    sorted_is_diff = sorted_thresh.diff() != 0\n",
    "    sorted_fp_end = torch.cat([sorted_is_diff, torch.tensor([True])])\n",
    "    sorted_fn_end = torch.cat([torch.tensor([True]), sorted_is_diff])\n",
    "    uniq_thresh = sorted_thresh[sorted_fp_end]\n",
    "    uniq_fp_after = sorted_fp_cum[sorted_fp_end]\n",
    "    uniq_fn_before = sorted_fn_cum[sorted_fn_end]\n",
    "    FPR = torch.cat([torch.tensor([0.0]), uniq_fp_after])\n",
    "    FNR = torch.cat([uniq_fn_before, torch.tensor([0.0])])\n",
    "    return {\n",
    "        \"FPR\":FPR,\n",
    "        \"FNR\":FNR,\n",
    "        \"TPR\":1 - FNR,\n",
    "        \"min(FPR,FNR)\":torch.minimum(FPR, FNR),\n",
    "        \"min_constant\":torch.cat([torch.tensor([-torch.inf]), uniq_thresh]),\n",
    "        \"max_constant\":torch.cat([uniq_thresh, torch.tensor([torch.inf])])\n",
    "    }\n",
    "roc_efficient_df = pd.DataFrame(ROC_curve(four_pred, four_labels))\n",
    "roc_efficient_df"
   ]
  },
  {
   "cell_type": "code",
   "execution_count": 4,
   "id": "c6180091-ee49-403f-9a4f-a876788c013d",
   "metadata": {},
   "outputs": [
    {
     "name": "stdout",
     "output_type": "stream",
     "text": [
      "tensor([0.5000, 0.5000, 0.5000, 1.0000])\n",
      "tensor([0.0000, 0.5000, 0.5000, 0.5000])\n",
      "tensor([0.0000, 0.5000, 1.0000, 1.0000])\n",
      "tensor([0.0000, 0.0000, 0.5000, 1.0000])\n"
     ]
    },
    {
     "data": {
      "text/plain": [
       "tensor(0.5000)"
      ]
     },
     "execution_count": 4,
     "metadata": {},
     "output_type": "execute_result"
    }
   ],
   "source": [
    "def ROC_AUC(pred_tensor, label_tensor):\n",
    "    roc = ROC_curve(pred_tensor, label_tensor)\n",
    "    FPR_diff = roc[\"FPR\"][1:]-roc[\"FPR\"][:-1]\n",
    "    TPR_sum = roc[\"TPR\"][1:]+roc[\"TPR\"][:-1]\n",
    "    \n",
    "    print(roc[\"FPR\"][1:])\n",
    "    print(roc[\"FPR\"][:-1])\n",
    "    print(roc[\"TPR\"][1:])\n",
    "    print(roc[\"TPR\"][:-1])\n",
    "    \n",
    "    return torch.sum(FPR_diff*TPR_sum/2.0)\n",
    "ROC_AUC(four_pred, four_labels)"
   ]
  },
  {
   "cell_type": "code",
   "execution_count": 5,
   "id": "8a7e9151-571f-4f63-a13b-dd3faf2035a4",
   "metadata": {},
   "outputs": [
    {
     "data": {
      "text/html": [
       "<div>\n",
       "<style scoped>\n",
       "    .dataframe tbody tr th:only-of-type {\n",
       "        vertical-align: middle;\n",
       "    }\n",
       "\n",
       "    .dataframe tbody tr th {\n",
       "        vertical-align: top;\n",
       "    }\n",
       "\n",
       "    .dataframe thead th {\n",
       "        text-align: right;\n",
       "    }\n",
       "</style>\n",
       "<table border=\"1\" class=\"dataframe\">\n",
       "  <thead>\n",
       "    <tr style=\"text-align: right;\">\n",
       "      <th></th>\n",
       "      <th>ideal</th>\n",
       "      <th>constant</th>\n",
       "      <th>anti-learning</th>\n",
       "      <th>label</th>\n",
       "    </tr>\n",
       "  </thead>\n",
       "  <tbody>\n",
       "    <tr>\n",
       "      <th>0</th>\n",
       "      <td>1.0</td>\n",
       "      <td>9.0</td>\n",
       "      <td>4.0</td>\n",
       "      <td>-1</td>\n",
       "    </tr>\n",
       "    <tr>\n",
       "      <th>1</th>\n",
       "      <td>2.0</td>\n",
       "      <td>9.0</td>\n",
       "      <td>3.0</td>\n",
       "      <td>-1</td>\n",
       "    </tr>\n",
       "    <tr>\n",
       "      <th>2</th>\n",
       "      <td>3.0</td>\n",
       "      <td>9.0</td>\n",
       "      <td>2.0</td>\n",
       "      <td>1</td>\n",
       "    </tr>\n",
       "    <tr>\n",
       "      <th>3</th>\n",
       "      <td>4.0</td>\n",
       "      <td>9.0</td>\n",
       "      <td>1.0</td>\n",
       "      <td>1</td>\n",
       "    </tr>\n",
       "  </tbody>\n",
       "</table>\n",
       "</div>"
      ],
      "text/plain": [
       "   ideal  constant  anti-learning  label\n",
       "0    1.0       9.0            4.0     -1\n",
       "1    2.0       9.0            3.0     -1\n",
       "2    3.0       9.0            2.0      1\n",
       "3    4.0       9.0            1.0      1"
      ]
     },
     "execution_count": 5,
     "metadata": {},
     "output_type": "execute_result"
    }
   ],
   "source": [
    "pred_dict = {\n",
    "    \"ideal\":[1.0, 2, 3, 4],\n",
    "    \"constant\":[9.0, 9, 9, 9],\n",
    "    \"anti-learning\":[4.0, 3, 2, 1],\n",
    "}\n",
    "example_pred_df = pd.DataFrame(pred_dict)\n",
    "example_pred_df[\"label\"] = four_labels\n",
    "example_pred_df"
   ]
  },
  {
   "cell_type": "code",
   "execution_count": 6,
   "id": "7892a791-d075-4906-acab-9dda316c8b61",
   "metadata": {},
   "outputs": [],
   "source": [
    "def Proposed_AUM(pred_tensor, label_tensor):\n",
    "    \"\"\"Area Under Min(FP,FN)\n",
    "\n",
    "    Differentiable loss function for imbalanced binary classification\n",
    "    problems. Minimizing AUM empirically results in maximizing Area\n",
    "    Under the ROC Curve (AUC). Arguments: pred_tensor and label_tensor\n",
    "    should both be 1d tensors, vectors of real-valued predictions and\n",
    "    integer labels for each observation in the set/batch. Labels\n",
    "    should be either 1 for positive class or any other value for\n",
    "    negative class.\n",
    "\n",
    "    \"\"\"\n",
    "    roc = ROC_curve(pred_tensor, label_tensor)\n",
    "    min_FPR_FNR = roc[\"min(FPR,FNR)\"][1:-1]\n",
    "    constant_diff = roc[\"min_constant\"][1:].diff()\n",
    "    return torch.sum(min_FPR_FNR * constant_diff)"
   ]
  },
  {
   "cell_type": "code",
   "execution_count": 7,
   "id": "0fa08c1b-239d-4f8a-998f-714663dcfeb6",
   "metadata": {},
   "outputs": [
    {
     "data": {
      "text/plain": [
       "tensor(1.5000)"
      ]
     },
     "execution_count": 7,
     "metadata": {},
     "output_type": "execute_result"
    }
   ],
   "source": [
    "Proposed_AUM(four_pred, four_labels)"
   ]
  },
  {
   "cell_type": "markdown",
   "id": "3a5fcbd7-3afb-4d1f-860c-6297b74d62e2",
   "metadata": {},
   "source": [
    "---"
   ]
  },
  {
   "cell_type": "markdown",
   "id": "6c0e5ab9-afab-436f-b9c2-c201888acba4",
   "metadata": {},
   "source": [
    "# Precision-Recall"
   ]
  },
  {
   "cell_type": "markdown",
   "id": "8c8bcc97-d474-422a-8a38-41d0ba86b080",
   "metadata": {},
   "source": [
    "In the following section I redid exactly what I did in R, that is setting precision to NaN if its denominator is equal to 0."
   ]
  },
  {
   "cell_type": "code",
   "execution_count": 8,
   "id": "a1f1be42-01f8-42bd-90f8-4ea5c15c5bb1",
   "metadata": {},
   "outputs": [
    {
     "data": {
      "text/html": [
       "<div>\n",
       "<style scoped>\n",
       "    .dataframe tbody tr th:only-of-type {\n",
       "        vertical-align: middle;\n",
       "    }\n",
       "\n",
       "    .dataframe tbody tr th {\n",
       "        vertical-align: top;\n",
       "    }\n",
       "\n",
       "    .dataframe thead th {\n",
       "        text-align: right;\n",
       "    }\n",
       "</style>\n",
       "<table border=\"1\" class=\"dataframe\">\n",
       "  <thead>\n",
       "    <tr style=\"text-align: right;\">\n",
       "      <th></th>\n",
       "      <th>FPR</th>\n",
       "      <th>FNR</th>\n",
       "      <th>TPR</th>\n",
       "      <th>recall</th>\n",
       "      <th>precision</th>\n",
       "      <th>min(pre,rec)</th>\n",
       "      <th>min_constant</th>\n",
       "      <th>max_constant</th>\n",
       "    </tr>\n",
       "  </thead>\n",
       "  <tbody>\n",
       "    <tr>\n",
       "      <th>0</th>\n",
       "      <td>0.0</td>\n",
       "      <td>1.0</td>\n",
       "      <td>0.0</td>\n",
       "      <td>0.0</td>\n",
       "      <td>NaN</td>\n",
       "      <td>NaN</td>\n",
       "      <td>-inf</td>\n",
       "      <td>-2.0</td>\n",
       "    </tr>\n",
       "    <tr>\n",
       "      <th>1</th>\n",
       "      <td>0.5</td>\n",
       "      <td>1.0</td>\n",
       "      <td>0.0</td>\n",
       "      <td>0.0</td>\n",
       "      <td>0.000000</td>\n",
       "      <td>1.0</td>\n",
       "      <td>-2.0</td>\n",
       "      <td>-1.5</td>\n",
       "    </tr>\n",
       "    <tr>\n",
       "      <th>2</th>\n",
       "      <td>0.5</td>\n",
       "      <td>0.5</td>\n",
       "      <td>0.5</td>\n",
       "      <td>0.5</td>\n",
       "      <td>0.500000</td>\n",
       "      <td>0.5</td>\n",
       "      <td>-1.5</td>\n",
       "      <td>1.0</td>\n",
       "    </tr>\n",
       "    <tr>\n",
       "      <th>3</th>\n",
       "      <td>0.5</td>\n",
       "      <td>0.0</td>\n",
       "      <td>1.0</td>\n",
       "      <td>1.0</td>\n",
       "      <td>0.666667</td>\n",
       "      <td>0.0</td>\n",
       "      <td>1.0</td>\n",
       "      <td>3.5</td>\n",
       "    </tr>\n",
       "    <tr>\n",
       "      <th>4</th>\n",
       "      <td>1.0</td>\n",
       "      <td>0.0</td>\n",
       "      <td>1.0</td>\n",
       "      <td>1.0</td>\n",
       "      <td>0.500000</td>\n",
       "      <td>0.0</td>\n",
       "      <td>3.5</td>\n",
       "      <td>inf</td>\n",
       "    </tr>\n",
       "  </tbody>\n",
       "</table>\n",
       "</div>"
      ],
      "text/plain": [
       "   FPR  FNR  TPR  recall  precision  min(pre,rec)  min_constant  max_constant\n",
       "0  0.0  1.0  0.0     0.0        NaN           NaN          -inf          -2.0\n",
       "1  0.5  1.0  0.0     0.0   0.000000           1.0          -2.0          -1.5\n",
       "2  0.5  0.5  0.5     0.5   0.500000           0.5          -1.5           1.0\n",
       "3  0.5  0.0  1.0     1.0   0.666667           0.0           1.0           3.5\n",
       "4  1.0  0.0  1.0     1.0   0.500000           0.0           3.5           inf"
      ]
     },
     "execution_count": 8,
     "metadata": {},
     "output_type": "execute_result"
    }
   ],
   "source": [
    "def PR_curve(pred_tensor, label_tensor):\n",
    "    \"\"\"Precision-Recall curve.\n",
    "    \"\"\"\n",
    "    is_positive = label_tensor == 1\n",
    "    is_negative = label_tensor != 1\n",
    "    fn_diff = torch.where(is_positive, -1, 0)\n",
    "    fp_diff = torch.where(is_positive, 0, 1)\n",
    "    thresh_tensor = -pred_tensor.flatten()\n",
    "    sorted_indices = torch.argsort(thresh_tensor)\n",
    "    fp_denom = torch.sum(is_negative) #or 1 for AUM based on count instead of rate\n",
    "    fn_denom = torch.sum(is_positive) #or 1 for AUM based on count instead of rate\n",
    "    sorted_fp_cum = fp_diff[\n",
    "        sorted_indices].cumsum(axis=0)/fp_denom\n",
    "    sorted_fn_cum = -fn_diff[\n",
    "        sorted_indices].flip(0).cumsum(axis=0).flip(0)/fn_denom\n",
    "    sorted_thresh = thresh_tensor[sorted_indices]\n",
    "    sorted_is_diff = sorted_thresh.diff() != 0\n",
    "    sorted_fp_end = torch.cat([sorted_is_diff, torch.tensor([True])])\n",
    "    sorted_fn_end = torch.cat([torch.tensor([True]), sorted_is_diff])\n",
    "    uniq_thresh = sorted_thresh[sorted_fp_end]\n",
    "    uniq_fp_after = sorted_fp_cum[sorted_fp_end]\n",
    "    uniq_fn_before = sorted_fn_cum[sorted_fn_end]\n",
    "    \n",
    "    \n",
    "    \n",
    "    FPR = torch.cat([torch.tensor([0.0]), uniq_fp_after])\n",
    "    FNR = torch.cat([uniq_fn_before, torch.tensor([0.0])])\n",
    "    total_positives = torch.sum(is_positive)\n",
    "    total_negatives = torch.sum(is_negative)\n",
    "    TP = total_positives * (1 - FNR)\n",
    "    TN = total_negatives * (1 - FPR)\n",
    "    FP = total_negatives * FPR\n",
    "    FN = total_positives * FNR\n",
    "    \n",
    "    precision = torch.zeros_like(TP)\n",
    "    recall = torch.zeros_like(TP)\n",
    "    valid_precision = (TP + FP) != 0\n",
    "    valid_recall = (TP + FN) != 0\n",
    "    precision[valid_precision] = (TP / (TP + FP))[valid_precision]\n",
    "    precision[~valid_precision] = float('nan')\n",
    "    recall[valid_recall] = (TP / (TP + FN))[valid_recall]\n",
    "    recall[~valid_recall] = float('nan')\n",
    "    \n",
    "    min_pre_rec = torch.minimum(1-precision, 1-recall)\n",
    "    \n",
    "    return {\n",
    "        \"FPR\": FPR,\n",
    "        \"FNR\": FNR,\n",
    "        \"TPR\": 1 - FNR,\n",
    "        \"recall\": recall,\n",
    "        \"precision\": precision,\n",
    "        \"min(pre,rec)\": min_pre_rec,  # Correction 3\n",
    "        \"min_constant\": torch.cat([torch.tensor([-torch.inf]), uniq_thresh]),\n",
    "        \"max_constant\": torch.cat([uniq_thresh, torch.tensor([torch.inf])])\n",
    "    }\n",
    "\n",
    "pr_efficient_df = pd.DataFrame(PR_curve(four_pred, four_labels))\n",
    "pr_efficient_df"
   ]
  },
  {
   "cell_type": "code",
   "execution_count": 9,
   "id": "b027559f-7f07-494f-99c7-7bc01ee5717e",
   "metadata": {},
   "outputs": [
    {
     "name": "stdout",
     "output_type": "stream",
     "text": [
      "tensor([0.5000, 1.0000, 1.0000])\n",
      "tensor([0.0000, 0.5000, 1.0000])\n",
      "tensor([0.5000, 0.6667, 0.5000])\n",
      "tensor([0.0000, 0.5000, 0.6667])\n"
     ]
    },
    {
     "data": {
      "text/plain": [
       "tensor(0.4167)"
      ]
     },
     "execution_count": 9,
     "metadata": {},
     "output_type": "execute_result"
    }
   ],
   "source": [
    "def PR_AUC(pred_tensor, label_tensor):\n",
    "    pr = PR_curve(pred_tensor, label_tensor)\n",
    "    recall_diff = pr[\"recall\"][2:]-pr[\"recall\"][1:4]\n",
    "    precision_sum = pr[\"precision\"][2:]+pr[\"precision\"][1:4]\n",
    "    \n",
    "    print(pr[\"recall\"][2:])\n",
    "    print(pr[\"recall\"][1:4])\n",
    "    print(pr[\"precision\"][2:])\n",
    "    print(pr[\"precision\"][1:4])\n",
    "    \n",
    "    return torch.sum(recall_diff*precision_sum/2.0)\n",
    "PR_AUC(four_pred, four_labels)"
   ]
  },
  {
   "cell_type": "code",
   "execution_count": 10,
   "id": "ed7caf6f-5d70-47d5-bde4-83699db4b5e1",
   "metadata": {},
   "outputs": [],
   "source": [
    "def Proposed_AUM(pred_tensor, label_tensor):\n",
    "    \"\"\"Area Under Min(FP,FN)\n",
    "\n",
    "    Differentiable loss function for imbalanced binary classification\n",
    "    problems. Minimizing AUM empirically results in maximizing Area\n",
    "    Under the ROC Curve (AUC). Arguments: pred_tensor and label_tensor\n",
    "    should both be 1d tensors, vectors of real-valued predictions and\n",
    "    integer labels for each observation in the set/batch. Labels\n",
    "    should be either 1 for positive class or any other value for\n",
    "    negative class.\n",
    "\n",
    "    \"\"\"\n",
    "    pr = PR_curve(pred_tensor, label_tensor)\n",
    "    min_pre_rec = pr[\"min(pre,rec)\"][1:-1]\n",
    "    constant_diff = pr[\"min_constant\"][1:].diff()\n",
    "    return torch.sum(min_pre_rec * constant_diff)"
   ]
  },
  {
   "cell_type": "code",
   "execution_count": 11,
   "id": "32431b47-4112-4bae-9b0a-bb64802220e7",
   "metadata": {},
   "outputs": [
    {
     "data": {
      "text/plain": [
       "tensor(1.7500)"
      ]
     },
     "execution_count": 11,
     "metadata": {},
     "output_type": "execute_result"
    }
   ],
   "source": [
    "Proposed_AUM(four_pred, four_labels)"
   ]
  },
  {
   "cell_type": "markdown",
   "id": "507d3825-5105-4eeb-9215-f76e0c09fab9",
   "metadata": {},
   "source": [
    "As expected, the results are the same as the ones using R."
   ]
  },
  {
   "cell_type": "markdown",
   "id": "553bec26-7c2f-4b19-a323-a65226a04b91",
   "metadata": {},
   "source": [
    "---"
   ]
  },
  {
   "cell_type": "markdown",
   "id": "6f5fad34-3252-4698-81c9-8b92106294d8",
   "metadata": {},
   "source": [
    "# TEST 1"
   ]
  },
  {
   "cell_type": "markdown",
   "id": "6adc0e30-7903-4743-90b2-c9df564c525a",
   "metadata": {},
   "source": [
    "In the following code I changed the value of the precision and recall from NaN to 0 if the denominator is equal to zero to see if it had an impact on the AUC."
   ]
  },
  {
   "cell_type": "code",
   "execution_count": 12,
   "id": "9a2cadf1-972f-4352-9e5c-5854d41ffe37",
   "metadata": {},
   "outputs": [
    {
     "data": {
      "text/html": [
       "<div>\n",
       "<style scoped>\n",
       "    .dataframe tbody tr th:only-of-type {\n",
       "        vertical-align: middle;\n",
       "    }\n",
       "\n",
       "    .dataframe tbody tr th {\n",
       "        vertical-align: top;\n",
       "    }\n",
       "\n",
       "    .dataframe thead th {\n",
       "        text-align: right;\n",
       "    }\n",
       "</style>\n",
       "<table border=\"1\" class=\"dataframe\">\n",
       "  <thead>\n",
       "    <tr style=\"text-align: right;\">\n",
       "      <th></th>\n",
       "      <th>FPR</th>\n",
       "      <th>FNR</th>\n",
       "      <th>TPR</th>\n",
       "      <th>recall</th>\n",
       "      <th>precision</th>\n",
       "      <th>min(pre,rec)</th>\n",
       "      <th>min_constant</th>\n",
       "      <th>max_constant</th>\n",
       "    </tr>\n",
       "  </thead>\n",
       "  <tbody>\n",
       "    <tr>\n",
       "      <th>0</th>\n",
       "      <td>0.0</td>\n",
       "      <td>1.0</td>\n",
       "      <td>0.0</td>\n",
       "      <td>0.0</td>\n",
       "      <td>0.000000</td>\n",
       "      <td>1.0</td>\n",
       "      <td>-inf</td>\n",
       "      <td>-2.0</td>\n",
       "    </tr>\n",
       "    <tr>\n",
       "      <th>1</th>\n",
       "      <td>0.5</td>\n",
       "      <td>1.0</td>\n",
       "      <td>0.0</td>\n",
       "      <td>0.0</td>\n",
       "      <td>0.000000</td>\n",
       "      <td>1.0</td>\n",
       "      <td>-2.0</td>\n",
       "      <td>-1.5</td>\n",
       "    </tr>\n",
       "    <tr>\n",
       "      <th>2</th>\n",
       "      <td>0.5</td>\n",
       "      <td>0.5</td>\n",
       "      <td>0.5</td>\n",
       "      <td>0.5</td>\n",
       "      <td>0.500000</td>\n",
       "      <td>0.5</td>\n",
       "      <td>-1.5</td>\n",
       "      <td>1.0</td>\n",
       "    </tr>\n",
       "    <tr>\n",
       "      <th>3</th>\n",
       "      <td>0.5</td>\n",
       "      <td>0.0</td>\n",
       "      <td>1.0</td>\n",
       "      <td>1.0</td>\n",
       "      <td>0.666667</td>\n",
       "      <td>0.0</td>\n",
       "      <td>1.0</td>\n",
       "      <td>3.5</td>\n",
       "    </tr>\n",
       "    <tr>\n",
       "      <th>4</th>\n",
       "      <td>1.0</td>\n",
       "      <td>0.0</td>\n",
       "      <td>1.0</td>\n",
       "      <td>1.0</td>\n",
       "      <td>0.500000</td>\n",
       "      <td>0.0</td>\n",
       "      <td>3.5</td>\n",
       "      <td>inf</td>\n",
       "    </tr>\n",
       "  </tbody>\n",
       "</table>\n",
       "</div>"
      ],
      "text/plain": [
       "   FPR  FNR  TPR  recall  precision  min(pre,rec)  min_constant  max_constant\n",
       "0  0.0  1.0  0.0     0.0   0.000000           1.0          -inf          -2.0\n",
       "1  0.5  1.0  0.0     0.0   0.000000           1.0          -2.0          -1.5\n",
       "2  0.5  0.5  0.5     0.5   0.500000           0.5          -1.5           1.0\n",
       "3  0.5  0.0  1.0     1.0   0.666667           0.0           1.0           3.5\n",
       "4  1.0  0.0  1.0     1.0   0.500000           0.0           3.5           inf"
      ]
     },
     "execution_count": 12,
     "metadata": {},
     "output_type": "execute_result"
    }
   ],
   "source": [
    "def PR_curve(pred_tensor, label_tensor):\n",
    "    \"\"\"Precision-Recall curve.\n",
    "    \"\"\"\n",
    "    is_positive = label_tensor == 1\n",
    "    is_negative = label_tensor != 1\n",
    "    fn_diff = torch.where(is_positive, -1, 0)\n",
    "    fp_diff = torch.where(is_positive, 0, 1)\n",
    "    thresh_tensor = -pred_tensor.flatten()\n",
    "    sorted_indices = torch.argsort(thresh_tensor)\n",
    "    fp_denom = torch.sum(is_negative) #or 1 for AUM based on count instead of rate\n",
    "    fn_denom = torch.sum(is_positive) #or 1 for AUM based on count instead of rate\n",
    "    sorted_fp_cum = fp_diff[\n",
    "        sorted_indices].cumsum(axis=0)/fp_denom\n",
    "    sorted_fn_cum = -fn_diff[\n",
    "        sorted_indices].flip(0).cumsum(axis=0).flip(0)/fn_denom\n",
    "    sorted_thresh = thresh_tensor[sorted_indices]\n",
    "    sorted_is_diff = sorted_thresh.diff() != 0\n",
    "    sorted_fp_end = torch.cat([sorted_is_diff, torch.tensor([True])])\n",
    "    sorted_fn_end = torch.cat([torch.tensor([True]), sorted_is_diff])\n",
    "    uniq_thresh = sorted_thresh[sorted_fp_end]\n",
    "    uniq_fp_after = sorted_fp_cum[sorted_fp_end]\n",
    "    uniq_fn_before = sorted_fn_cum[sorted_fn_end]\n",
    "    \n",
    "    \n",
    "    \n",
    "    FPR = torch.cat([torch.tensor([0.0]), uniq_fp_after])\n",
    "    FNR = torch.cat([uniq_fn_before, torch.tensor([0.0])])\n",
    "    total_positives = torch.sum(is_positive)\n",
    "    total_negatives = torch.sum(is_negative)\n",
    "    TP = total_positives * (1 - FNR)\n",
    "    TN = total_negatives * (1 - FPR)\n",
    "    FP = total_negatives * FPR\n",
    "    FN = total_positives * FNR\n",
    "    \n",
    "    precision = torch.zeros_like(TP)\n",
    "    recall = torch.zeros_like(TP)\n",
    "    valid_precision = (TP + FP) != 0\n",
    "    valid_recall = (TP + FN) != 0\n",
    "    precision[valid_precision] = (TP / (TP + FP))[valid_precision]\n",
    "    precision[~valid_precision] = 0\n",
    "    recall[valid_recall] = (TP / (TP + FN))[valid_recall]\n",
    "    recall[~valid_recall] = 0\n",
    "    \n",
    "    min_pre_rec = torch.minimum(1-precision, 1-recall)\n",
    "    \n",
    "    return {\n",
    "        \"FPR\": FPR,\n",
    "        \"FNR\": FNR,\n",
    "        \"TPR\": 1 - FNR,\n",
    "        \"recall\": recall,\n",
    "        \"precision\": precision,\n",
    "        \"min(pre,rec)\": min_pre_rec,  # Correction 3\n",
    "        \"min_constant\": torch.cat([torch.tensor([-torch.inf]), uniq_thresh]),\n",
    "        \"max_constant\": torch.cat([uniq_thresh, torch.tensor([torch.inf])])\n",
    "    }\n",
    "\n",
    "pr_efficient_df = pd.DataFrame(PR_curve(four_pred, four_labels))\n",
    "pr_efficient_df"
   ]
  },
  {
   "cell_type": "code",
   "execution_count": 13,
   "id": "8534f86f-c533-416e-a137-4f4df5c83a84",
   "metadata": {},
   "outputs": [
    {
     "name": "stdout",
     "output_type": "stream",
     "text": [
      "tensor([0.0000, 0.5000, 1.0000, 1.0000])\n",
      "tensor([0.0000, 0.0000, 0.5000, 1.0000])\n",
      "tensor([0.0000, 0.5000, 0.6667, 0.5000])\n",
      "tensor([0.0000, 0.0000, 0.5000, 0.6667])\n"
     ]
    },
    {
     "data": {
      "text/plain": [
       "tensor(0.4167)"
      ]
     },
     "execution_count": 13,
     "metadata": {},
     "output_type": "execute_result"
    }
   ],
   "source": [
    "def PR_AUC(pred_tensor, label_tensor):\n",
    "    pr = PR_curve(pred_tensor, label_tensor)\n",
    "    recall_diff = pr[\"recall\"][1:]-pr[\"recall\"][:4]\n",
    "    precision_sum = pr[\"precision\"][1:]+pr[\"precision\"][:4]\n",
    "    \n",
    "    print(pr[\"recall\"][1:])\n",
    "    print(pr[\"recall\"][:4])\n",
    "    print(pr[\"precision\"][1:])\n",
    "    print(pr[\"precision\"][:4])\n",
    "    \n",
    "    return torch.sum(recall_diff*precision_sum/2.0)\n",
    "PR_AUC(four_pred, four_labels)"
   ]
  },
  {
   "cell_type": "markdown",
   "id": "15d8f22d-4c31-415c-86d5-0eea2f883f83",
   "metadata": {},
   "source": [
    "The result is the same as before."
   ]
  },
  {
   "cell_type": "markdown",
   "id": "063b02d9-209d-4dc9-873a-e89018e65008",
   "metadata": {},
   "source": [
    "---"
   ]
  },
  {
   "cell_type": "markdown",
   "id": "5558483d-713d-4a54-b080-f77352f5503c",
   "metadata": {},
   "source": [
    "# SCIKIT LEARN"
   ]
  },
  {
   "cell_type": "markdown",
   "id": "199e748e-de4c-4c9f-a036-d1441b1d8fd5",
   "metadata": {},
   "source": [
    "[Documentation.](https://scikit-learn.org/stable/modules/generated/sklearn.metrics.precision_recall_curve.html)  \n",
    "From the scikit learn website :   \n",
    "\"Precision : ndarray of shape (n_thresholds + 1,)  \n",
    "Precision values such that element i is the precision of predictions with score >= thresholds[i] and the last element is 1.\""
   ]
  },
  {
   "cell_type": "code",
   "execution_count": 14,
   "id": "631f3668-cbb7-4108-a132-248de6193a75",
   "metadata": {},
   "outputs": [
    {
     "name": "stdout",
     "output_type": "stream",
     "text": [
      "Precision: [0.5        0.66666667 0.5        0.         1.        ]\n",
      "Recall: [1.  1.  0.5 0.  0. ]\n"
     ]
    }
   ],
   "source": [
    "from sklearn.metrics import precision_recall_curve\n",
    "y_true = np.array([0, 0, 1, 1])\n",
    "y_scores = np.array([2.0, -3.5, -1.0, 1.5])\n",
    "precision, recall, thresholds = precision_recall_curve(y_true, y_scores)\n",
    "\n",
    "print(\"Precision:\", precision)\n",
    "print(\"Recall:\", recall)"
   ]
  },
  {
   "cell_type": "markdown",
   "id": "7e8cee3e-dcd5-4af2-aed1-7a155a4d8960",
   "metadata": {},
   "source": [
    "Here the last value is equa to 1, however with the PR_curve function we set the precision value to NaN because the denominator was equal to zero."
   ]
  },
  {
   "cell_type": "markdown",
   "id": "8a3fb8c5-2fbd-4ba2-b159-b0eee3a18075",
   "metadata": {},
   "source": [
    "---"
   ]
  },
  {
   "cell_type": "markdown",
   "id": "32b0a028-11ea-4348-9659-9417ba48bfbc",
   "metadata": {},
   "source": [
    "# TEST 2"
   ]
  },
  {
   "cell_type": "markdown",
   "id": "7cc29c63-4d5c-476a-9c37-37fe20014473",
   "metadata": {},
   "source": [
    "After looking at the results using scikit learn the only difference is that in the case where precision = NaN the scikit learn function sets the value of the precision to 1.  \n",
    "So let's recompute the AUC in this case."
   ]
  },
  {
   "cell_type": "code",
   "execution_count": 15,
   "id": "c965fb63-ce00-46c5-92d0-a7cb6a84cf62",
   "metadata": {},
   "outputs": [
    {
     "data": {
      "text/html": [
       "<div>\n",
       "<style scoped>\n",
       "    .dataframe tbody tr th:only-of-type {\n",
       "        vertical-align: middle;\n",
       "    }\n",
       "\n",
       "    .dataframe tbody tr th {\n",
       "        vertical-align: top;\n",
       "    }\n",
       "\n",
       "    .dataframe thead th {\n",
       "        text-align: right;\n",
       "    }\n",
       "</style>\n",
       "<table border=\"1\" class=\"dataframe\">\n",
       "  <thead>\n",
       "    <tr style=\"text-align: right;\">\n",
       "      <th></th>\n",
       "      <th>FPR</th>\n",
       "      <th>FNR</th>\n",
       "      <th>TPR</th>\n",
       "      <th>recall</th>\n",
       "      <th>precision</th>\n",
       "      <th>min(pre,rec)</th>\n",
       "      <th>min_constant</th>\n",
       "      <th>max_constant</th>\n",
       "    </tr>\n",
       "  </thead>\n",
       "  <tbody>\n",
       "    <tr>\n",
       "      <th>0</th>\n",
       "      <td>0.0</td>\n",
       "      <td>1.0</td>\n",
       "      <td>0.0</td>\n",
       "      <td>0.0</td>\n",
       "      <td>1.000000</td>\n",
       "      <td>0.0</td>\n",
       "      <td>-inf</td>\n",
       "      <td>-2.0</td>\n",
       "    </tr>\n",
       "    <tr>\n",
       "      <th>1</th>\n",
       "      <td>0.5</td>\n",
       "      <td>1.0</td>\n",
       "      <td>0.0</td>\n",
       "      <td>0.0</td>\n",
       "      <td>0.000000</td>\n",
       "      <td>1.0</td>\n",
       "      <td>-2.0</td>\n",
       "      <td>-1.5</td>\n",
       "    </tr>\n",
       "    <tr>\n",
       "      <th>2</th>\n",
       "      <td>0.5</td>\n",
       "      <td>0.5</td>\n",
       "      <td>0.5</td>\n",
       "      <td>0.5</td>\n",
       "      <td>0.500000</td>\n",
       "      <td>0.5</td>\n",
       "      <td>-1.5</td>\n",
       "      <td>1.0</td>\n",
       "    </tr>\n",
       "    <tr>\n",
       "      <th>3</th>\n",
       "      <td>0.5</td>\n",
       "      <td>0.0</td>\n",
       "      <td>1.0</td>\n",
       "      <td>1.0</td>\n",
       "      <td>0.666667</td>\n",
       "      <td>0.0</td>\n",
       "      <td>1.0</td>\n",
       "      <td>3.5</td>\n",
       "    </tr>\n",
       "    <tr>\n",
       "      <th>4</th>\n",
       "      <td>1.0</td>\n",
       "      <td>0.0</td>\n",
       "      <td>1.0</td>\n",
       "      <td>1.0</td>\n",
       "      <td>0.500000</td>\n",
       "      <td>0.0</td>\n",
       "      <td>3.5</td>\n",
       "      <td>inf</td>\n",
       "    </tr>\n",
       "  </tbody>\n",
       "</table>\n",
       "</div>"
      ],
      "text/plain": [
       "   FPR  FNR  TPR  recall  precision  min(pre,rec)  min_constant  max_constant\n",
       "0  0.0  1.0  0.0     0.0   1.000000           0.0          -inf          -2.0\n",
       "1  0.5  1.0  0.0     0.0   0.000000           1.0          -2.0          -1.5\n",
       "2  0.5  0.5  0.5     0.5   0.500000           0.5          -1.5           1.0\n",
       "3  0.5  0.0  1.0     1.0   0.666667           0.0           1.0           3.5\n",
       "4  1.0  0.0  1.0     1.0   0.500000           0.0           3.5           inf"
      ]
     },
     "execution_count": 15,
     "metadata": {},
     "output_type": "execute_result"
    }
   ],
   "source": [
    "def PR_curve(pred_tensor, label_tensor):\n",
    "    \"\"\"Precision-Recall curve.\n",
    "    \"\"\"\n",
    "    is_positive = label_tensor == 1\n",
    "    is_negative = label_tensor != 1\n",
    "    fn_diff = torch.where(is_positive, -1, 0)\n",
    "    fp_diff = torch.where(is_positive, 0, 1)\n",
    "    thresh_tensor = -pred_tensor.flatten()\n",
    "    sorted_indices = torch.argsort(thresh_tensor)\n",
    "    fp_denom = torch.sum(is_negative) #or 1 for AUM based on count instead of rate\n",
    "    fn_denom = torch.sum(is_positive) #or 1 for AUM based on count instead of rate\n",
    "    sorted_fp_cum = fp_diff[\n",
    "        sorted_indices].cumsum(axis=0)/fp_denom\n",
    "    sorted_fn_cum = -fn_diff[\n",
    "        sorted_indices].flip(0).cumsum(axis=0).flip(0)/fn_denom\n",
    "    sorted_thresh = thresh_tensor[sorted_indices]\n",
    "    sorted_is_diff = sorted_thresh.diff() != 0\n",
    "    sorted_fp_end = torch.cat([sorted_is_diff, torch.tensor([True])])\n",
    "    sorted_fn_end = torch.cat([torch.tensor([True]), sorted_is_diff])\n",
    "    uniq_thresh = sorted_thresh[sorted_fp_end]\n",
    "    uniq_fp_after = sorted_fp_cum[sorted_fp_end]\n",
    "    uniq_fn_before = sorted_fn_cum[sorted_fn_end]\n",
    "    \n",
    "    \n",
    "    \n",
    "    FPR = torch.cat([torch.tensor([0.0]), uniq_fp_after])\n",
    "    FNR = torch.cat([uniq_fn_before, torch.tensor([0.0])])\n",
    "    total_positives = torch.sum(is_positive)\n",
    "    total_negatives = torch.sum(is_negative)\n",
    "    TP = total_positives * (1 - FNR)\n",
    "    TN = total_negatives * (1 - FPR)\n",
    "    FP = total_negatives * FPR\n",
    "    FN = total_positives * FNR\n",
    "    \n",
    "    precision = torch.zeros_like(TP)\n",
    "    recall = torch.zeros_like(TP)\n",
    "    valid_precision = (TP + FP) != 0\n",
    "    valid_recall = (TP + FN) != 0\n",
    "    precision[valid_precision] = (TP / (TP + FP))[valid_precision]\n",
    "    precision[~valid_precision] = 1\n",
    "    recall[valid_recall] = (TP / (TP + FN))[valid_recall]\n",
    "    recall[~valid_recall] = 1\n",
    "    \n",
    "    min_pre_rec = torch.minimum(1-precision, 1-recall)\n",
    "    \n",
    "    return {\n",
    "        \"FPR\": FPR,\n",
    "        \"FNR\": FNR,\n",
    "        \"TPR\": 1 - FNR,\n",
    "        \"recall\": recall,\n",
    "        \"precision\": precision,\n",
    "        \"min(pre,rec)\": min_pre_rec,  # Correction 3\n",
    "        \"min_constant\": torch.cat([torch.tensor([-torch.inf]), uniq_thresh]),\n",
    "        \"max_constant\": torch.cat([uniq_thresh, torch.tensor([torch.inf])])\n",
    "    }\n",
    "\n",
    "pr_efficient_df = pd.DataFrame(PR_curve(four_pred, four_labels))\n",
    "pr_efficient_df"
   ]
  },
  {
   "cell_type": "code",
   "execution_count": 16,
   "id": "1db87459-08d5-4b7f-8d9b-0de7998434eb",
   "metadata": {},
   "outputs": [
    {
     "name": "stdout",
     "output_type": "stream",
     "text": [
      "tensor([0.0000, 0.5000, 1.0000, 1.0000])\n",
      "tensor([0.0000, 0.0000, 0.5000, 1.0000])\n",
      "tensor([0.0000, 0.5000, 0.6667, 0.5000])\n",
      "tensor([1.0000, 0.0000, 0.5000, 0.6667])\n"
     ]
    },
    {
     "data": {
      "text/plain": [
       "tensor(0.4167)"
      ]
     },
     "execution_count": 16,
     "metadata": {},
     "output_type": "execute_result"
    }
   ],
   "source": [
    "def PR_AUC(pred_tensor, label_tensor):\n",
    "    pr = PR_curve(pred_tensor, label_tensor)\n",
    "    recall_diff = pr[\"recall\"][1:]-pr[\"recall\"][:4]\n",
    "    precision_sum = pr[\"precision\"][1:]+pr[\"precision\"][:4]\n",
    "    \n",
    "    print(pr[\"recall\"][1:])\n",
    "    print(pr[\"recall\"][:4])\n",
    "    print(pr[\"precision\"][1:])\n",
    "    print(pr[\"precision\"][:4])\n",
    "    \n",
    "    return torch.sum(recall_diff*precision_sum/2.0)\n",
    "PR_AUC(four_pred, four_labels)"
   ]
  },
  {
   "cell_type": "markdown",
   "id": "9f8475a5-4329-4acb-b80b-a12e659fc9cb",
   "metadata": {},
   "source": [
    "Again the result didn't change."
   ]
  },
  {
   "cell_type": "markdown",
   "id": "eb09d5e9-f948-46b6-9a10-4375e238d0bd",
   "metadata": {},
   "source": [
    "---"
   ]
  },
  {
   "cell_type": "markdown",
   "id": "35310f46-0e7b-4457-9823-187ee1262b3e",
   "metadata": {},
   "source": [
    "In this notebook I redid the functions I previously did in R.  \n",
    "I also studied the impact on the PR AUC depending on the value assigne to the precision if its denominator is equal to zero. \n",
    "Here it doesn't change the value of the PR AUC but we can believe that it might change in other cases which could be interesting to study.  \n",
    "In this case we can conclude that either 0, 1 or NaN could work. I would personally tend to choose the value NaN to represent the issue that TP+FP=0."
   ]
  }
 ],
 "metadata": {
  "kernelspec": {
   "display_name": "Python 3.11",
   "language": "python",
   "name": "python3"
  },
  "language_info": {
   "codemirror_mode": {
    "name": "ipython",
    "version": 3
   },
   "file_extension": ".py",
   "mimetype": "text/x-python",
   "name": "python",
   "nbconvert_exporter": "python",
   "pygments_lexer": "ipython3",
   "version": "3.11.5"
  }
 },
 "nbformat": 4,
 "nbformat_minor": 5
}
